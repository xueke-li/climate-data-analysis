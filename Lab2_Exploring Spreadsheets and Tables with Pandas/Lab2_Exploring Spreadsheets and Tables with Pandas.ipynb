{
 "cells": [
  {
   "cell_type": "markdown",
   "metadata": {},
   "source": [
    "# Tutorial 2: Exploring Spreadsheets and Tables with Pandas"
   ]
  },
  {
   "cell_type": "markdown",
   "metadata": {},
   "source": [
    "In this class, we will be working with data stored in spreadsheets and tables. These files may come in different formats, such as Excel CSV (Comma Separated Values) files, text files (.txt), or other types of data files (.xlsx, for examample). \n",
    "\n",
    "In this tutorial, we will learn all the basics of working with spreadsheets and tables in Python using the **pandas** package. By the end of this tutorial, you will be able to:\n",
    "* open and read existing .csv files (the process is the same for .txt files)\n",
    "* practice the steps of data collection, screening, and exploration\n",
    "* perform basic mathematical operations on DataFrame data\n",
    "* visualize and interpret data, and save the plot"
   ]
  },
  {
   "cell_type": "markdown",
   "metadata": {},
   "source": [
    "### What is pandas?"
   ]
  },
  {
   "cell_type": "markdown",
   "metadata": {},
   "source": [
    "The pandas package is a Python package that specifically analyzes and manipulates data in 2D or 1D arrays. Basically, pandas is the go-to tool for looking at data in a table (2D) or list (1D) format. Of course, there is some special vocab to learn with pandas (or any Python package). \n",
    "\n",
    "In an Excel file, a 2D array is called a spreadsheet. In pandas, these 2D arrays are called *DataFrames*. pandas also has a name for a 1D array: a *Series*. Certain commands only work on Series and not DataFrames, or vice versa, so it is important to know which kind of object you are working with.\n",
    "\n",
    "**Note:** the package name pandas is always lowercase. This is a purposeful decision by the creators of pandas. Other Python packages have funny upper- and lowercasing, too!"
   ]
  },
  {
   "cell_type": "markdown",
   "metadata": {},
   "source": [
    "Remember, as with any Python package, you must import your package before using."
   ]
  },
  {
   "cell_type": "code",
   "execution_count": 2,
   "metadata": {},
   "outputs": [],
   "source": [
    "import pandas as pd\n",
    "import matplotlib.pyplot as plt # we'll be looking at our data, so we'll import pyplot here as well"
   ]
  },
  {
   "cell_type": "markdown",
   "metadata": {},
   "source": [
    "### Opening files with pandas"
   ]
  },
  {
   "cell_type": "markdown",
   "metadata": {},
   "source": [
    "Whether your data is in html, csv, json, or xlsx, pandas can open that! Here is a comprehensive list of all file types pandas can open and read: https://pandas.pydata.org/docs/reference/io.html. User Guide for pandas can be found via https://pandas.pydata.org/docs/index.html"
   ]
  },
  {
   "cell_type": "markdown",
   "metadata": {},
   "source": [
    "#### <font color=red> Data Science Life Cycle Step 1: Data Collection"
   ]
  },
  {
   "cell_type": "markdown",
   "metadata": {},
   "source": [
    "🗂 The data we’re using can be downloaded from: https://www.ncdc.noaa.gov/cdo-web/search?datasetid=GHCND.\n",
    "\n",
    "Here are two examples you can try (step-by-step download options are included):\n",
    "\n",
    "Example 1: \"LAHORE_PK.csv\"\n",
    "- **Select Weather Observation Type/Dataset**: Daily Summaries\n",
    "- **Select Date Range**: 2023-06-01 to 2023-08-31\n",
    "- **Search For**: Cities\n",
    "- **Enter a Search Term**: Lahore\n",
    "- Click **Search**\n",
    "- From the list that appears, **Add to Cart**: Lahore, PK\n",
    "\n",
    "Example 2: \"PHILADELPHIA_US.csv\"\n",
    "- **Select Weather Observation Type/Dataset**: Daily Summaries\n",
    "- **Select Date Range**: 2023-06-01 to 2023-08-31\n",
    "- **Search For**: Cities\n",
    "- **Enter a Search Term**: Philadelphia  \n",
    "- Click **Search**\n",
    "- From the list that appears, **Add to Cart**: Philadelphia, PA US \n",
    "\n",
    "When you’re ready to download, move your mouse pointer to the Cart icon at the top right of the page and follow the download instructions."
   ]
  },
  {
   "cell_type": "code",
   "execution_count": 3,
   "metadata": {},
   "outputs": [],
   "source": [
    "# names of files to open\n",
    "csvfile_pk = 'LAHORE_PK.csv' \n",
    "csvfile_pa = 'PHILADELPHIA_US.csv'"
   ]
  },
  {
   "cell_type": "markdown",
   "metadata": {},
   "source": [
    "Before we open these files with pandas, pause for a moment and open one of them using Excel or TextEditor and just see what it looks like. This way, you can check if the pandas version is consistent with the native file."
   ]
  },
  {
   "cell_type": "code",
   "execution_count": 4,
   "metadata": {},
   "outputs": [],
   "source": [
    "# use the read_csv command to open the files as a dataframe. \n",
    "# see more about dataframe: \n",
    "#                          https://pandas.pydata.org/docs/user_guide/dsintro.html#dataframe\n",
    "# note: this command also works for .txt files\n",
    "df_pk = pd.read_csv(csvfile_pk, sep=',')\n",
    "df_pa = pd.read_csv(csvfile_pa, sep=',')\n",
    "# the sep=',' argument refers to the separator between data, meaning that values in the file are separated by \",\"."
   ]
  },
  {
   "cell_type": "markdown",
   "metadata": {},
   "source": [
    "Let’s start by taking a look at the station data for Lahore, Pakistan (LAHORE, PK)."
   ]
  },
  {
   "cell_type": "markdown",
   "metadata": {},
   "source": [
    "### LAHORE, PK"
   ]
  },
  {
   "cell_type": "code",
   "execution_count": 5,
   "metadata": {},
   "outputs": [
    {
     "data": {
      "text/html": [
       "<div>\n",
       "<style scoped>\n",
       "    .dataframe tbody tr th:only-of-type {\n",
       "        vertical-align: middle;\n",
       "    }\n",
       "\n",
       "    .dataframe tbody tr th {\n",
       "        vertical-align: top;\n",
       "    }\n",
       "\n",
       "    .dataframe thead th {\n",
       "        text-align: right;\n",
       "    }\n",
       "</style>\n",
       "<table border=\"1\" class=\"dataframe\">\n",
       "  <thead>\n",
       "    <tr style=\"text-align: right;\">\n",
       "      <th></th>\n",
       "      <th>STATION</th>\n",
       "      <th>NAME</th>\n",
       "      <th>LATITUDE</th>\n",
       "      <th>LONGITUDE</th>\n",
       "      <th>ELEVATION</th>\n",
       "      <th>DATE</th>\n",
       "      <th>PRCP</th>\n",
       "      <th>PRCP_ATTRIBUTES</th>\n",
       "      <th>TMAX</th>\n",
       "      <th>TMAX_ATTRIBUTES</th>\n",
       "    </tr>\n",
       "  </thead>\n",
       "  <tbody>\n",
       "    <tr>\n",
       "      <th>0</th>\n",
       "      <td>PK000041640</td>\n",
       "      <td>LAHORE CITY, PK</td>\n",
       "      <td>31.55</td>\n",
       "      <td>74.333</td>\n",
       "      <td>215.0</td>\n",
       "      <td>2023-06-01</td>\n",
       "      <td>0.05</td>\n",
       "      <td>,,S</td>\n",
       "      <td>86.0</td>\n",
       "      <td>,,S</td>\n",
       "    </tr>\n",
       "    <tr>\n",
       "      <th>1</th>\n",
       "      <td>PK000041640</td>\n",
       "      <td>LAHORE CITY, PK</td>\n",
       "      <td>31.55</td>\n",
       "      <td>74.333</td>\n",
       "      <td>215.0</td>\n",
       "      <td>2023-06-02</td>\n",
       "      <td>0.02</td>\n",
       "      <td>,,S</td>\n",
       "      <td>89.0</td>\n",
       "      <td>,,S</td>\n",
       "    </tr>\n",
       "    <tr>\n",
       "      <th>2</th>\n",
       "      <td>PK000041640</td>\n",
       "      <td>LAHORE CITY, PK</td>\n",
       "      <td>31.55</td>\n",
       "      <td>74.333</td>\n",
       "      <td>215.0</td>\n",
       "      <td>2023-06-03</td>\n",
       "      <td>0.00</td>\n",
       "      <td>,,S</td>\n",
       "      <td>96.0</td>\n",
       "      <td>,,S</td>\n",
       "    </tr>\n",
       "    <tr>\n",
       "      <th>3</th>\n",
       "      <td>PK000041640</td>\n",
       "      <td>LAHORE CITY, PK</td>\n",
       "      <td>31.55</td>\n",
       "      <td>74.333</td>\n",
       "      <td>215.0</td>\n",
       "      <td>2023-06-04</td>\n",
       "      <td>0.00</td>\n",
       "      <td>,,S</td>\n",
       "      <td>101.0</td>\n",
       "      <td>,,S</td>\n",
       "    </tr>\n",
       "    <tr>\n",
       "      <th>4</th>\n",
       "      <td>PK000041640</td>\n",
       "      <td>LAHORE CITY, PK</td>\n",
       "      <td>31.55</td>\n",
       "      <td>74.333</td>\n",
       "      <td>215.0</td>\n",
       "      <td>2023-06-05</td>\n",
       "      <td>0.00</td>\n",
       "      <td>,,S</td>\n",
       "      <td>100.0</td>\n",
       "      <td>,,S</td>\n",
       "    </tr>\n",
       "    <tr>\n",
       "      <th>...</th>\n",
       "      <td>...</td>\n",
       "      <td>...</td>\n",
       "      <td>...</td>\n",
       "      <td>...</td>\n",
       "      <td>...</td>\n",
       "      <td>...</td>\n",
       "      <td>...</td>\n",
       "      <td>...</td>\n",
       "      <td>...</td>\n",
       "      <td>...</td>\n",
       "    </tr>\n",
       "    <tr>\n",
       "      <th>87</th>\n",
       "      <td>PK000041640</td>\n",
       "      <td>LAHORE CITY, PK</td>\n",
       "      <td>31.55</td>\n",
       "      <td>74.333</td>\n",
       "      <td>215.0</td>\n",
       "      <td>2023-08-27</td>\n",
       "      <td>0.00</td>\n",
       "      <td>,,S</td>\n",
       "      <td>95.0</td>\n",
       "      <td>,,S</td>\n",
       "    </tr>\n",
       "    <tr>\n",
       "      <th>88</th>\n",
       "      <td>PK000041640</td>\n",
       "      <td>LAHORE CITY, PK</td>\n",
       "      <td>31.55</td>\n",
       "      <td>74.333</td>\n",
       "      <td>215.0</td>\n",
       "      <td>2023-08-28</td>\n",
       "      <td>0.80</td>\n",
       "      <td>,,S</td>\n",
       "      <td>94.0</td>\n",
       "      <td>,,S</td>\n",
       "    </tr>\n",
       "    <tr>\n",
       "      <th>89</th>\n",
       "      <td>PK000041640</td>\n",
       "      <td>LAHORE CITY, PK</td>\n",
       "      <td>31.55</td>\n",
       "      <td>74.333</td>\n",
       "      <td>215.0</td>\n",
       "      <td>2023-08-29</td>\n",
       "      <td>0.01</td>\n",
       "      <td>,,S</td>\n",
       "      <td>95.0</td>\n",
       "      <td>,,S</td>\n",
       "    </tr>\n",
       "    <tr>\n",
       "      <th>90</th>\n",
       "      <td>PK000041640</td>\n",
       "      <td>LAHORE CITY, PK</td>\n",
       "      <td>31.55</td>\n",
       "      <td>74.333</td>\n",
       "      <td>215.0</td>\n",
       "      <td>2023-08-30</td>\n",
       "      <td>0.00</td>\n",
       "      <td>,,S</td>\n",
       "      <td>97.0</td>\n",
       "      <td>,,S</td>\n",
       "    </tr>\n",
       "    <tr>\n",
       "      <th>91</th>\n",
       "      <td>PK000041640</td>\n",
       "      <td>LAHORE CITY, PK</td>\n",
       "      <td>31.55</td>\n",
       "      <td>74.333</td>\n",
       "      <td>215.0</td>\n",
       "      <td>2023-08-31</td>\n",
       "      <td>0.00</td>\n",
       "      <td>,,S</td>\n",
       "      <td>99.0</td>\n",
       "      <td>,,S</td>\n",
       "    </tr>\n",
       "  </tbody>\n",
       "</table>\n",
       "<p>92 rows × 10 columns</p>\n",
       "</div>"
      ],
      "text/plain": [
       "        STATION             NAME  LATITUDE  LONGITUDE  ELEVATION        DATE  \\\n",
       "0   PK000041640  LAHORE CITY, PK     31.55     74.333      215.0  2023-06-01   \n",
       "1   PK000041640  LAHORE CITY, PK     31.55     74.333      215.0  2023-06-02   \n",
       "2   PK000041640  LAHORE CITY, PK     31.55     74.333      215.0  2023-06-03   \n",
       "3   PK000041640  LAHORE CITY, PK     31.55     74.333      215.0  2023-06-04   \n",
       "4   PK000041640  LAHORE CITY, PK     31.55     74.333      215.0  2023-06-05   \n",
       "..          ...              ...       ...        ...        ...         ...   \n",
       "87  PK000041640  LAHORE CITY, PK     31.55     74.333      215.0  2023-08-27   \n",
       "88  PK000041640  LAHORE CITY, PK     31.55     74.333      215.0  2023-08-28   \n",
       "89  PK000041640  LAHORE CITY, PK     31.55     74.333      215.0  2023-08-29   \n",
       "90  PK000041640  LAHORE CITY, PK     31.55     74.333      215.0  2023-08-30   \n",
       "91  PK000041640  LAHORE CITY, PK     31.55     74.333      215.0  2023-08-31   \n",
       "\n",
       "    PRCP PRCP_ATTRIBUTES   TMAX TMAX_ATTRIBUTES  \n",
       "0   0.05             ,,S   86.0             ,,S  \n",
       "1   0.02             ,,S   89.0             ,,S  \n",
       "2   0.00             ,,S   96.0             ,,S  \n",
       "3   0.00             ,,S  101.0             ,,S  \n",
       "4   0.00             ,,S  100.0             ,,S  \n",
       "..   ...             ...    ...             ...  \n",
       "87  0.00             ,,S   95.0             ,,S  \n",
       "88  0.80             ,,S   94.0             ,,S  \n",
       "89  0.01             ,,S   95.0             ,,S  \n",
       "90  0.00             ,,S   97.0             ,,S  \n",
       "91  0.00             ,,S   99.0             ,,S  \n",
       "\n",
       "[92 rows x 10 columns]"
      ]
     },
     "execution_count": 5,
     "metadata": {},
     "output_type": "execute_result"
    }
   ],
   "source": [
    "# check out each DataFrame. You don't need to use the print command here.\n",
    "df_pk"
   ]
  },
  {
   "cell_type": "markdown",
   "metadata": {},
   "source": [
    "Success! We’ve successfully opened each file."
   ]
  },
  {
   "cell_type": "code",
   "execution_count": 6,
   "metadata": {},
   "outputs": [
    {
     "data": {
      "text/plain": [
       "0     0.05\n",
       "1     0.02\n",
       "2     0.00\n",
       "3     0.00\n",
       "4     0.00\n",
       "      ... \n",
       "87    0.00\n",
       "88    0.80\n",
       "89    0.01\n",
       "90    0.00\n",
       "91    0.00\n",
       "Name: PRCP, Length: 92, dtype: float64"
      ]
     },
     "execution_count": 6,
     "metadata": {},
     "output_type": "execute_result"
    }
   ],
   "source": [
    "# rememeber that series is the data structure for a single column of a DataFrame, \n",
    "# a one-dimensional labeled array capable of holding any data type.\n",
    "PRCP_pk = df_pk['PRCP']\n",
    "TMAX_pk = df_pk['TMAX']\n",
    "DATE_pk = df_pk['DATE']  \n",
    "PRCP_pk"
   ]
  },
  {
   "cell_type": "markdown",
   "metadata": {},
   "source": [
    "#### <font color=red> Data Science Life Cycle Step 2: Data Cleaning"
   ]
  },
  {
   "cell_type": "markdown",
   "metadata": {},
   "source": [
    "Now, following the data science life cycle we discussed in class, our next step is to do a pre-assessment. This means checking the data to see if any cleaning is needed, such as fixing missing values, duplicates, or other errors."
   ]
  },
  {
   "cell_type": "markdown",
   "metadata": {},
   "source": [
    "Check how many weather stations are included within the city by using the .unique() command."
   ]
  },
  {
   "cell_type": "code",
   "execution_count": 7,
   "metadata": {},
   "outputs": [
    {
     "name": "stdout",
     "output_type": "stream",
     "text": [
      "['PK000041640']\n"
     ]
    }
   ],
   "source": [
    "# check the unique station IDs without replication\n",
    "# see https://pandas.pydata.org/docs/reference/api/pandas.Series.unique.html#pandas.Series.unique\n",
    "print(df_pk['STATION'].unique())"
   ]
  },
  {
   "cell_type": "markdown",
   "metadata": {},
   "source": [
    "Let’s check if there are any missing values in our dataset. We’ll use the .isnull() function to identify missing data (https://pandas.pydata.org/docs/reference/api/pandas.Series.isnull.html#pandas.Series.isnull)\n",
    "and then sum up the number of days with missing data during the summer using .sum() (https://pandas.pydata.org/docs/reference/api/pandas.Series.sum.html#pandas.Series.sum)\n",
    "\n",
    "**Note**: Both functions are applied to a Series (https://pandas.pydata.org/docs/user_guide/dsintro.html#series), so we first need to select the column (variable) we want to check. Since we’re focusing on variables related to heat and floods, we will check:\n",
    "\n",
    "Daily maximum temperature (the **TMAX** column)\n",
    "\n",
    "Precipitation (the **PRCP** column)"
   ]
  },
  {
   "cell_type": "markdown",
   "metadata": {},
   "source": [
    "You can view all rows in DataFrame by changing the display setting below.\n",
    "👉 Note: By default, pandas only shows 10 rows."
   ]
  },
  {
   "cell_type": "code",
   "execution_count": 8,
   "metadata": {},
   "outputs": [
    {
     "data": {
      "text/plain": [
       "0     0.05\n",
       "1     0.02\n",
       "2     0.00\n",
       "3     0.00\n",
       "4     0.00\n",
       "5     0.00\n",
       "6     1.18\n",
       "7     0.00\n",
       "8     0.00\n",
       "9     0.00\n",
       "10    0.12\n",
       "11    0.00\n",
       "12    0.00\n",
       "13    0.08\n",
       "14    0.00\n",
       "15    0.05\n",
       "16    0.00\n",
       "17    0.00\n",
       "18    0.18\n",
       "19    0.00\n",
       "20    0.00\n",
       "21    0.00\n",
       "22    0.00\n",
       "23     NaN\n",
       "24    0.00\n",
       "25    6.37\n",
       "26    0.40\n",
       "27    0.00\n",
       "28    0.00\n",
       "29    0.24\n",
       "30    0.00\n",
       "31    0.00\n",
       "32    0.00\n",
       "33    0.93\n",
       "34    3.70\n",
       "35    2.34\n",
       "36    0.44\n",
       "37    0.84\n",
       "38    0.10\n",
       "39    0.00\n",
       "40    0.00\n",
       "41    0.00\n",
       "42    0.00\n",
       "43    0.00\n",
       "44    0.00\n",
       "45    0.00\n",
       "46    0.00\n",
       "47    0.00\n",
       "48    0.00\n",
       "49    0.91\n",
       "50    0.32\n",
       "51    0.27\n",
       "52    4.17\n",
       "53    0.00\n",
       "54    0.02\n",
       "55    0.02\n",
       "56    1.68\n",
       "57    0.14\n",
       "58    0.00\n",
       "59    1.34\n",
       "60    0.00\n",
       "61    0.39\n",
       "62    0.00\n",
       "63    0.00\n",
       "64    0.00\n",
       "65    0.00\n",
       "66    0.00\n",
       "67    0.00\n",
       "68    0.00\n",
       "69    0.00\n",
       "70    0.00\n",
       "71    0.09\n",
       "72    0.00\n",
       "73    0.00\n",
       "74    0.00\n",
       "75    0.00\n",
       "76    0.00\n",
       "77    0.00\n",
       "78    0.00\n",
       "79    0.00\n",
       "80    0.02\n",
       "81    0.00\n",
       "82    0.00\n",
       "83    0.00\n",
       "84    0.00\n",
       "85    0.43\n",
       "86    1.33\n",
       "87    0.00\n",
       "88    0.80\n",
       "89    0.01\n",
       "90    0.00\n",
       "91    0.00\n",
       "Name: PRCP, dtype: float64"
      ]
     },
     "execution_count": 8,
     "metadata": {},
     "output_type": "execute_result"
    }
   ],
   "source": [
    "pd.set_option('display.max_rows', 92) \n",
    "PRCP_pk\n",
    "# after displaying all the rows, remember to change the setting back to 10 to save space \n",
    "# and keep your output manageable."
   ]
  },
  {
   "cell_type": "markdown",
   "metadata": {},
   "source": [
    "Notice that there is a NaN (missing value) at index 23. In Python, NaN means Not a Number. It is a placeholder for missing data. If there are a lot of NaNs in your DataFrame, it can be a pain to remove them one by one."
   ]
  },
  {
   "cell_type": "code",
   "execution_count": 9,
   "metadata": {},
   "outputs": [
    {
     "name": "stdout",
     "output_type": "stream",
     "text": [
      "PRCP:  1\n",
      "TMAX:  10\n"
     ]
    }
   ],
   "source": [
    "# check if PRCP/TMAX has any columns with missing values (i.e., NAN)\n",
    "print(\"PRCP: \", PRCP_pk.isnull().sum())\n",
    "print(\"TMAX: \",TMAX_pk.isnull().sum())"
   ]
  },
  {
   "cell_type": "markdown",
   "metadata": {},
   "source": [
    "Now, let’s take it a step further and calculate the percentage of missing values.\n",
    "\n",
    "This will help us assess whether the amount of missing data is too large compared to the total number of records in our dataset."
   ]
  },
  {
   "cell_type": "code",
   "execution_count": 10,
   "metadata": {},
   "outputs": [
    {
     "name": "stdout",
     "output_type": "stream",
     "text": [
      "92\n",
      "PRCP:  1.0869565217391304\n",
      "PRCP:  10.869565217391305\n"
     ]
    }
   ],
   "source": [
    "# this is the total number of rows in the entire dataset (because there is only one station)\n",
    "length_pk = len(df_pk.index)\n",
    "print(length_pk)\n",
    "\n",
    "# this This calculates the number of missing values divided by the total number of entries, \n",
    "# giving us the proportion of missing data\n",
    "print(\"PRCP: \", PRCP_pk.isnull().sum()/len(df_pk.index) * 100)\n",
    "print(\"TMAX: \", TMAX_pk.isnull().sum()/len(df_pk.index) * 100)"
   ]
  },
  {
   "cell_type": "markdown",
   "metadata": {},
   "source": [
    "The missing data <15% should still be manageable. If more than 15% – 20% missing data, it may be problematic to require careful consideration."
   ]
  },
  {
   "cell_type": "markdown",
   "metadata": {},
   "source": [
    "#### <font color=red> Data Science Life Cycle Step 3: Data Exploration"
   ]
  },
  {
   "cell_type": "markdown",
   "metadata": {},
   "source": [
    "Now, let’s do some basic statistical calculations with our data to better understand it. See pandas.Series operations https://pandas.pydata.org/pandas-docs/stable/reference/api/pandas.Series.html"
   ]
  },
  {
   "cell_type": "code",
   "execution_count": 11,
   "metadata": {},
   "outputs": [
    {
     "name": "stdout",
     "output_type": "stream",
     "text": [
      "PRCP_pk_mean:  0.31846153846153846\n",
      "TMAX_pk_mean:  96.98780487804878\n"
     ]
    }
   ],
   "source": [
    "# calculate mean (excluding missing values)\n",
    "PRCP_pk_mean = PRCP_pk.mean(skipna=True) # By default, skipna=True, even if it is not explicitly specified.\n",
    "TMAX_pk_mean = TMAX_pk.mean(skipna=True)\n",
    "print(\"PRCP_pk_mean: \", PRCP_pk_mean)\n",
    "print(\"TMAX_pk_mean: \", TMAX_pk_mean)"
   ]
  },
  {
   "cell_type": "code",
   "execution_count": 12,
   "metadata": {},
   "outputs": [
    {
     "name": "stdout",
     "output_type": "stream",
     "text": [
      "PRCP_pk_std:  0.941283902239587\n",
      "TMAX_pk_std:  4.7414481885200805\n"
     ]
    }
   ],
   "source": [
    "# calculate standard deviation\n",
    "PRCP_pk_std = PRCP_pk.std(skipna=True)\n",
    "TMAX_pk_std = TMAX_pk.std(skipna=True)\n",
    "print(\"PRCP_pk_std: \", PRCP_pk_std)\n",
    "print(\"TMAX_pk_std: \", TMAX_pk_std)"
   ]
  },
  {
   "cell_type": "code",
   "execution_count": 13,
   "metadata": {},
   "outputs": [
    {
     "name": "stdout",
     "output_type": "stream",
     "text": [
      "PRCP_pk_sum:  28.98\n"
     ]
    }
   ],
   "source": [
    "# Calculate sum \n",
    "PRCP_pk_sum = PRCP_pk.sum(skipna=True)\n",
    "print(\"PRCP_pk_sum: \", PRCP_pk_sum)"
   ]
  },
  {
   "cell_type": "code",
   "execution_count": 14,
   "metadata": {},
   "outputs": [
    {
     "name": "stdout",
     "output_type": "stream",
     "text": [
      "PRCP_pk_max:  6.37\n",
      "PRCP_pk_max_index:  25  Date:  2023-06-26\n",
      "TMAX_pk_max:  107.0\n",
      "TMAX_pk_max_index:  22  Date:  2023-06-23\n"
     ]
    }
   ],
   "source": [
    "# Calculate maximum\n",
    "PRCP_pk_max = PRCP_pk.max(skipna=True)\n",
    "PRCP_pk_max_idx = PRCP_pk.argmax(skipna=True) # Return int position of the largest value in the Series.\n",
    "TMAX_pk_max = TMAX_pk.max(skipna=True)\n",
    "TMAX_pk_max_idx = TMAX_pk.argmax(skipna=True)\n",
    "print(\"PRCP_pk_max: \", PRCP_pk_max)\n",
    "print(\"PRCP_pk_max_index: \", PRCP_pk_max_idx, \" Date: \", DATE_pk[PRCP_pk_max_idx])\n",
    "print(\"TMAX_pk_max: \", TMAX_pk_max)\n",
    "print(\"TMAX_pk_max_index: \", TMAX_pk_max_idx, \" Date: \", DATE_pk[TMAX_pk_max_idx])"
   ]
  },
  {
   "cell_type": "code",
   "execution_count": 15,
   "metadata": {},
   "outputs": [
    {
     "name": "stdout",
     "output_type": "stream",
     "text": [
      "TMAX_pk_min:  81.0\n",
      "TMAX_pk_min_index:  34  Date:  2023-07-05\n"
     ]
    }
   ],
   "source": [
    "# Calculate minimum\n",
    "TMAX_pk_min = TMAX_pk.min(skipna=True)\n",
    "TMAX_pk_min_idx = TMAX_pk.argmin(skipna=True)\n",
    "print(\"TMAX_pk_min: \", TMAX_pk_min)\n",
    "print(\"TMAX_pk_min_index: \", TMAX_pk_min_idx, \" Date: \", DATE_pk[TMAX_pk_min_idx])"
   ]
  },
  {
   "cell_type": "markdown",
   "metadata": {},
   "source": [
    "Next, let's do a time series visulization using matplotlib. let’s create a time series data visualization using Matplotlib.\n",
    "\n",
    "Did you know? Pandas also has a built-in plot function that can be used directly on either a Series or a DataFrame to quickly create plots (https://pandas.pydata.org/docs/reference/api/pandas.DataFrame.plot.html)."
   ]
  },
  {
   "cell_type": "code",
   "execution_count": 16,
   "metadata": {},
   "outputs": [
    {
     "data": {
      "text/plain": [
       "<Axes: title={'center': 'Lahore, PK'}>"
      ]
     },
     "execution_count": 16,
     "metadata": {},
     "output_type": "execute_result"
    },
    {
     "data": {
      "image/png": "[encoded data removed]",
      "text/plain": [
       "<Figure size 640x480 with 1 Axes>"
      ]
     },
     "metadata": {},
     "output_type": "display_data"
    }
   ],
   "source": [
    "# plot with pandas.DataFrame.plot()\n",
    "PRCP_pk.plot(kind='line', title=\"Lahore, PK\")"
   ]
  },
  {
   "cell_type": "markdown",
   "metadata": {},
   "source": [
    "The plot above was quick and easy to create. However, if we want to make more customized and visually nice plots, it’s better to use Matplotlib.\n",
    "\n",
    "So, let’s move on and create our plots using Matplotlib (https://matplotlib.org/stable/api/pyplot_summary.html) for more control and flexibility."
   ]
  },
  {
   "cell_type": "code",
   "execution_count": 17,
   "metadata": {},
   "outputs": [
    {
     "data": {
      "text/plain": [
       "Text(0.5, 1.0, 'Lahore, PK')"
      ]
     },
     "execution_count": 17,
     "metadata": {},
     "output_type": "execute_result"
    },
    {
     "data": {
      "image/png": "[encoded data removed]",
      "text/plain": [
       "<Figure size 800x600 with 1 Axes>"
      ]
     },
     "metadata": {},
     "output_type": "display_data"
    }
   ],
   "source": [
    "# select only x ticks and ticklabels at the start of each month\n",
    "x_ticks = [0, 30, 61, 91] \n",
    "x_tlabels = [DATE_pk[k] for k in x_ticks]\n",
    "\n",
    "##################### plot precipitation ##################### \n",
    "# fig (Figure): refers to the entire window or canvas that contains all the elements of your visualization. \n",
    "# ax (Axes): represents a single subplot within the Figure. \n",
    "#            If you have multiple subplots within one Figure, each subplot will correspond to a distinct Axes object.\n",
    "# figsize: adjust the overall size of the plot, specifically its width and height in inches.\n",
    "fig, ax = plt.subplots(figsize=(8, 6))       # By default, there is only one subplot (nrows=1, ncols=1)\n",
    "\n",
    "# plot type\n",
    "ax.plot(DATE_pk, PRCP_pk, color=\"black\")        # Line plot\n",
    "# ax.scatter(DATE_pk, PRCP_pk, color=\"black\")    # Scatter plot\n",
    "\n",
    "# plot settings\n",
    "ax.set_xticks(x_ticks)\n",
    "ax.set_xticklabels(x_tlabels, ha='center')\n",
    "ax.tick_params(axis='both', labelsize=12)\n",
    "ax.set_xlabel('Date', size=14)\n",
    "ax.set_ylabel('Precipitation (inch)', size=14)\n",
    "ax.grid(True, alpha=0.15)\n",
    "\n",
    "# plot date with the maximum precipitation\n",
    "ax.axvline(x=PRCP_pk_max_idx, color='blue', linestyle='--', linewidth=2)\n",
    "\n",
    "# plot mean and mean +- one standard deviation of precipitation\n",
    "ax.axhline(y=PRCP_pk_mean, color='gray', linestyle='-', linewidth=0.5)\n",
    "ax.axhline(y=PRCP_pk_mean + PRCP_pk_std, color='gray', linestyle='-.', linewidth=0.5)\n",
    "ax.axhline(y=PRCP_pk_mean - PRCP_pk_std, color='gray', linestyle='-.', linewidth=0.5)\n",
    "fig.tight_layout()\n",
    "\n",
    "plt.title(\"Lahore, PK\", size=16)\n",
    "\n",
    "# save plot\n",
    "# plt.savefig('Lahore_PK_PRCP.png', format='png', dpi=600, bbox_inches='tight') "
   ]
  },
  {
   "cell_type": "markdown",
   "metadata": {},
   "source": [
    "That looks much better, right? Now, let’s take it one step further. We’re going to create two subplots:\n",
    "\n",
    "- One for precipitation, and\n",
    "\n",
    "- One for daily maximum temperature.\n",
    "\n",
    "We’ll arrange them in two rows and one column, and they will share the same x-axis, which is the time period. Let’s do it!"
   ]
  },
  {
   "cell_type": "code",
   "execution_count": 18,
   "metadata": {},
   "outputs": [
    {
     "data": {
      "text/plain": [
       "Text(0.5, 0.98, 'Lahore, PK')"
      ]
     },
     "execution_count": 18,
     "metadata": {},
     "output_type": "execute_result"
    },
    {
     "data": {
      "image/png": "[encoded data removed]",
      "text/plain": [
       "<Figure size 640x480 with 2 Axes>"
      ]
     },
     "metadata": {},
     "output_type": "display_data"
    }
   ],
   "source": [
    "fig, [ax1, ax2] = plt.subplots(2, 1, layout='constrained', sharex=True)\n",
    "\n",
    "# Select only x ticks and ticklabels at the start of each month\n",
    "x_ticks = [0, 30, 61, 91] \n",
    "x_tlabels = [DATE_pk[k] for k in x_ticks]\n",
    "\n",
    "## ------------- plot precipitation ------------ ##\n",
    "ax1.plot(DATE_pk, PRCP_pk, color=\"black\")       # Line plot\n",
    "# ax1.scatter(DATE_pk, PRCP_pk, color=\"black\")    # Scatter plot\n",
    "ax1.set_xticks(x_ticks)\n",
    "ax1.set_xticklabels(x_tlabels, ha='center')\n",
    "ax1.tick_params(axis='both', labelsize=12)\n",
    "# ax1.set_xlabel('Date', size=14)\n",
    "ax1.set_ylabel('PRCP (inch)', size=14)\n",
    "ax1.grid(True, alpha=0.15)\n",
    "\n",
    "# plot date with the maximum precipitation\n",
    "ax1.axvline(x=PRCP_pk_max_idx, color='blue', linestyle='--', linewidth=2)\n",
    "\n",
    "# plot mean and mean +- one standard deviation of precipitation\n",
    "ax1.axhline(y=PRCP_pk_mean, color='gray', linestyle='-', linewidth=0.5)\n",
    "ax1.axhline(y=PRCP_pk_mean + PRCP_pk_std, color='gray', linestyle='-.', linewidth=0.5)\n",
    "ax1.axhline(y=PRCP_pk_mean - PRCP_pk_std, color='gray', linestyle='-.', linewidth=0.5)\n",
    "\n",
    "## ------------- plot daily maximum temperature ------------ ##\n",
    "ax2.plot(DATE_pk, TMAX_pk, color=\"black\")       # Line plot\n",
    "# ax2.scatter(DATE_pk, TMAX_pk, color=\"black\")    # Scatter plot\n",
    "ax2.set_xticks(x_ticks)\n",
    "ax2.set_xticklabels(x_tlabels, ha='center')\n",
    "ax2.tick_params(axis='both', labelsize=12)\n",
    "ax2.set_xlabel('Date', size=14)\n",
    "ax2.set_ylabel('TMAX ($^\\circ$F)', size=14)\n",
    "ax2.grid(True, alpha=0.15)\n",
    "\n",
    "# plot date with the maximum and minimum daily maximum temperature\n",
    "ax2.axvline(x=TMAX_pk_max_idx, color='red', linestyle='--', linewidth=2)\n",
    "ax2.axvline(x=TMAX_pk_min_idx, color='blue', linestyle='--', linewidth=2)\n",
    "\n",
    "# plot mean and mean +- one standard deviation of daily maximum temperature\n",
    "ax2.axhline(y=TMAX_pk_mean, color='gray', linestyle='-', linewidth=0.5)\n",
    "ax2.axhline(y=TMAX_pk_mean + TMAX_pk_std, color='gray', linestyle='-.', linewidth=0.5)\n",
    "ax2.axhline(y=TMAX_pk_mean - TMAX_pk_std, color='gray', linestyle='-.', linewidth=0.5)\n",
    "\n",
    "# add a \"super title\" to a figure, which is a title that spans across all subplots within that figure\n",
    "plt.suptitle(\"Lahore, PK\", size=16)\n",
    "\n",
    "# save plot\n",
    "# plt.savefig('Lahore_PK_PRCP_TMAX.png', format='png', dpi=600, bbox_inches='tight') "
   ]
  },
  {
   "cell_type": "markdown",
   "metadata": {},
   "source": [
    "What do you notice about the relationship between precipitation and daily maximum temperature in the data?\n",
    "\n",
    "👉 For example, does one increase when the other decreases?\n",
    "👉 Are there any patterns that stand out to you?"
   ]
  },
  {
   "cell_type": "markdown",
   "metadata": {},
   "source": [
    "Next, let’s repeat the same analysis for the station(s) in Philadelphia, PA."
   ]
  },
  {
   "cell_type": "markdown",
   "metadata": {},
   "source": [
    "### PHILADELPHIA, US"
   ]
  },
  {
   "cell_type": "code",
   "execution_count": 19,
   "metadata": {},
   "outputs": [
    {
     "data": {
      "text/html": [
       "<div>\n",
       "<style scoped>\n",
       "    .dataframe tbody tr th:only-of-type {\n",
       "        vertical-align: middle;\n",
       "    }\n",
       "\n",
       "    .dataframe tbody tr th {\n",
       "        vertical-align: top;\n",
       "    }\n",
       "\n",
       "    .dataframe thead th {\n",
       "        text-align: right;\n",
       "    }\n",
       "</style>\n",
       "<table border=\"1\" class=\"dataframe\">\n",
       "  <thead>\n",
       "    <tr style=\"text-align: right;\">\n",
       "      <th></th>\n",
       "      <th>STATION</th>\n",
       "      <th>NAME</th>\n",
       "      <th>LATITUDE</th>\n",
       "      <th>LONGITUDE</th>\n",
       "      <th>ELEVATION</th>\n",
       "      <th>DATE</th>\n",
       "      <th>PRCP</th>\n",
       "      <th>PRCP_ATTRIBUTES</th>\n",
       "      <th>TMAX</th>\n",
       "      <th>TMAX_ATTRIBUTES</th>\n",
       "    </tr>\n",
       "  </thead>\n",
       "  <tbody>\n",
       "    <tr>\n",
       "      <th>0</th>\n",
       "      <td>US1PAPH0012</td>\n",
       "      <td>PHILADELPHIA 2.1 NE, PA US</td>\n",
       "      <td>40.031559</td>\n",
       "      <td>-75.110199</td>\n",
       "      <td>20.7</td>\n",
       "      <td>2023-06-01</td>\n",
       "      <td>0.00</td>\n",
       "      <td>,,N</td>\n",
       "      <td>NaN</td>\n",
       "      <td>NaN</td>\n",
       "    </tr>\n",
       "    <tr>\n",
       "      <th>1</th>\n",
       "      <td>US1PAPH0012</td>\n",
       "      <td>PHILADELPHIA 2.1 NE, PA US</td>\n",
       "      <td>40.031559</td>\n",
       "      <td>-75.110199</td>\n",
       "      <td>20.7</td>\n",
       "      <td>2023-06-02</td>\n",
       "      <td>0.00</td>\n",
       "      <td>,,N</td>\n",
       "      <td>NaN</td>\n",
       "      <td>NaN</td>\n",
       "    </tr>\n",
       "    <tr>\n",
       "      <th>2</th>\n",
       "      <td>US1PAPH0012</td>\n",
       "      <td>PHILADELPHIA 2.1 NE, PA US</td>\n",
       "      <td>40.031559</td>\n",
       "      <td>-75.110199</td>\n",
       "      <td>20.7</td>\n",
       "      <td>2023-06-03</td>\n",
       "      <td>0.04</td>\n",
       "      <td>,,N</td>\n",
       "      <td>NaN</td>\n",
       "      <td>NaN</td>\n",
       "    </tr>\n",
       "    <tr>\n",
       "      <th>3</th>\n",
       "      <td>US1PAPH0012</td>\n",
       "      <td>PHILADELPHIA 2.1 NE, PA US</td>\n",
       "      <td>40.031559</td>\n",
       "      <td>-75.110199</td>\n",
       "      <td>20.7</td>\n",
       "      <td>2023-06-04</td>\n",
       "      <td>0.00</td>\n",
       "      <td>,,N</td>\n",
       "      <td>NaN</td>\n",
       "      <td>NaN</td>\n",
       "    </tr>\n",
       "    <tr>\n",
       "      <th>4</th>\n",
       "      <td>US1PAPH0012</td>\n",
       "      <td>PHILADELPHIA 2.1 NE, PA US</td>\n",
       "      <td>40.031559</td>\n",
       "      <td>-75.110199</td>\n",
       "      <td>20.7</td>\n",
       "      <td>2023-06-05</td>\n",
       "      <td>0.00</td>\n",
       "      <td>,,N</td>\n",
       "      <td>NaN</td>\n",
       "      <td>NaN</td>\n",
       "    </tr>\n",
       "    <tr>\n",
       "      <th>...</th>\n",
       "      <td>...</td>\n",
       "      <td>...</td>\n",
       "      <td>...</td>\n",
       "      <td>...</td>\n",
       "      <td>...</td>\n",
       "      <td>...</td>\n",
       "      <td>...</td>\n",
       "      <td>...</td>\n",
       "      <td>...</td>\n",
       "      <td>...</td>\n",
       "    </tr>\n",
       "    <tr>\n",
       "      <th>556</th>\n",
       "      <td>USC00366878</td>\n",
       "      <td>PHILADELPHIA CENTER CITY, PA US</td>\n",
       "      <td>39.960560</td>\n",
       "      <td>-75.142630</td>\n",
       "      <td>4.9</td>\n",
       "      <td>2023-08-27</td>\n",
       "      <td>NaN</td>\n",
       "      <td>NaN</td>\n",
       "      <td>NaN</td>\n",
       "      <td>NaN</td>\n",
       "    </tr>\n",
       "    <tr>\n",
       "      <th>557</th>\n",
       "      <td>USC00366878</td>\n",
       "      <td>PHILADELPHIA CENTER CITY, PA US</td>\n",
       "      <td>39.960560</td>\n",
       "      <td>-75.142630</td>\n",
       "      <td>4.9</td>\n",
       "      <td>2023-08-28</td>\n",
       "      <td>NaN</td>\n",
       "      <td>NaN</td>\n",
       "      <td>NaN</td>\n",
       "      <td>NaN</td>\n",
       "    </tr>\n",
       "    <tr>\n",
       "      <th>558</th>\n",
       "      <td>USC00366878</td>\n",
       "      <td>PHILADELPHIA CENTER CITY, PA US</td>\n",
       "      <td>39.960560</td>\n",
       "      <td>-75.142630</td>\n",
       "      <td>4.9</td>\n",
       "      <td>2023-08-29</td>\n",
       "      <td>NaN</td>\n",
       "      <td>NaN</td>\n",
       "      <td>NaN</td>\n",
       "      <td>NaN</td>\n",
       "    </tr>\n",
       "    <tr>\n",
       "      <th>559</th>\n",
       "      <td>USC00366878</td>\n",
       "      <td>PHILADELPHIA CENTER CITY, PA US</td>\n",
       "      <td>39.960560</td>\n",
       "      <td>-75.142630</td>\n",
       "      <td>4.9</td>\n",
       "      <td>2023-08-30</td>\n",
       "      <td>NaN</td>\n",
       "      <td>NaN</td>\n",
       "      <td>NaN</td>\n",
       "      <td>NaN</td>\n",
       "    </tr>\n",
       "    <tr>\n",
       "      <th>560</th>\n",
       "      <td>USC00366878</td>\n",
       "      <td>PHILADELPHIA CENTER CITY, PA US</td>\n",
       "      <td>39.960560</td>\n",
       "      <td>-75.142630</td>\n",
       "      <td>4.9</td>\n",
       "      <td>2023-08-31</td>\n",
       "      <td>NaN</td>\n",
       "      <td>NaN</td>\n",
       "      <td>NaN</td>\n",
       "      <td>NaN</td>\n",
       "    </tr>\n",
       "  </tbody>\n",
       "</table>\n",
       "<p>561 rows × 10 columns</p>\n",
       "</div>"
      ],
      "text/plain": [
       "         STATION                             NAME   LATITUDE  LONGITUDE  \\\n",
       "0    US1PAPH0012       PHILADELPHIA 2.1 NE, PA US  40.031559 -75.110199   \n",
       "1    US1PAPH0012       PHILADELPHIA 2.1 NE, PA US  40.031559 -75.110199   \n",
       "2    US1PAPH0012       PHILADELPHIA 2.1 NE, PA US  40.031559 -75.110199   \n",
       "3    US1PAPH0012       PHILADELPHIA 2.1 NE, PA US  40.031559 -75.110199   \n",
       "4    US1PAPH0012       PHILADELPHIA 2.1 NE, PA US  40.031559 -75.110199   \n",
       "..           ...                              ...        ...        ...   \n",
       "556  USC00366878  PHILADELPHIA CENTER CITY, PA US  39.960560 -75.142630   \n",
       "557  USC00366878  PHILADELPHIA CENTER CITY, PA US  39.960560 -75.142630   \n",
       "558  USC00366878  PHILADELPHIA CENTER CITY, PA US  39.960560 -75.142630   \n",
       "559  USC00366878  PHILADELPHIA CENTER CITY, PA US  39.960560 -75.142630   \n",
       "560  USC00366878  PHILADELPHIA CENTER CITY, PA US  39.960560 -75.142630   \n",
       "\n",
       "     ELEVATION        DATE  PRCP PRCP_ATTRIBUTES  TMAX TMAX_ATTRIBUTES  \n",
       "0         20.7  2023-06-01  0.00             ,,N   NaN             NaN  \n",
       "1         20.7  2023-06-02  0.00             ,,N   NaN             NaN  \n",
       "2         20.7  2023-06-03  0.04             ,,N   NaN             NaN  \n",
       "3         20.7  2023-06-04  0.00             ,,N   NaN             NaN  \n",
       "4         20.7  2023-06-05  0.00             ,,N   NaN             NaN  \n",
       "..         ...         ...   ...             ...   ...             ...  \n",
       "556        4.9  2023-08-27   NaN             NaN   NaN             NaN  \n",
       "557        4.9  2023-08-28   NaN             NaN   NaN             NaN  \n",
       "558        4.9  2023-08-29   NaN             NaN   NaN             NaN  \n",
       "559        4.9  2023-08-30   NaN             NaN   NaN             NaN  \n",
       "560        4.9  2023-08-31   NaN             NaN   NaN             NaN  \n",
       "\n",
       "[561 rows x 10 columns]"
      ]
     },
     "execution_count": 19,
     "metadata": {},
     "output_type": "execute_result"
    }
   ],
   "source": [
    "# check out each DataFrame. \n",
    "df_pa"
   ]
  },
  {
   "cell_type": "code",
   "execution_count": 20,
   "metadata": {},
   "outputs": [
    {
     "data": {
      "text/plain": [
       "0      0.00\n",
       "1      0.00\n",
       "2      0.04\n",
       "3      0.00\n",
       "4      0.00\n",
       "       ... \n",
       "556     NaN\n",
       "557     NaN\n",
       "558     NaN\n",
       "559     NaN\n",
       "560     NaN\n",
       "Name: PRCP, Length: 561, dtype: float64"
      ]
     },
     "execution_count": 20,
     "metadata": {},
     "output_type": "execute_result"
    }
   ],
   "source": [
    "# Select 'PRCP' and 'TMAX' as a Series\n",
    "PRCP_pa = df_pa['PRCP']\n",
    "TMAX_pa = df_pa['TMAX']\n",
    "DATE_pa = df_pa['DATE']\n",
    "PRCP_pa"
   ]
  },
  {
   "cell_type": "markdown",
   "metadata": {},
   "source": [
    "#### <font color=red> Data Science Life Cycle Step 2: Data Cleaning"
   ]
  },
  {
   "cell_type": "code",
   "execution_count": 21,
   "metadata": {},
   "outputs": [
    {
     "name": "stdout",
     "output_type": "stream",
     "text": [
      "['US1PAPH0012' 'USW00013739' 'US1PAPH0030' 'US1PAPH0008' 'USW00094732'\n",
      " 'USC00366886' 'USC00366878']\n"
     ]
    }
   ],
   "source": [
    "# check the unique station IDs without replication\n",
    "print(df_pa['STATION'].unique())"
   ]
  },
  {
   "cell_type": "markdown",
   "metadata": {},
   "source": [
    "Hmm, it looks like there are multiple stations found within Philadelphia. This makes things a bit more complicated.\n",
    "\n",
    "However, we can use the .groupby() function on the “STATION” column, which will allow us to perform calculations for each station separately, just like we did for LAHORE_PK."
   ]
  },
  {
   "cell_type": "code",
   "execution_count": 22,
   "metadata": {},
   "outputs": [
    {
     "name": "stdout",
     "output_type": "stream",
     "text": [
      "PRCP:  STATION\n",
      "US1PAPH0008     1\n",
      "US1PAPH0012     1\n",
      "US1PAPH0030     0\n",
      "USC00366878    92\n",
      "USC00366886    48\n",
      "USW00013739     0\n",
      "USW00094732     2\n",
      "Name: PRCP, dtype: int64\n",
      "TMAX:  STATION\n",
      "US1PAPH0008    22\n",
      "US1PAPH0012    88\n",
      "US1PAPH0030    83\n",
      "USC00366878    92\n",
      "USC00366886     0\n",
      "USW00013739     0\n",
      "USW00094732     0\n",
      "Name: TMAX, dtype: int64\n"
     ]
    }
   ],
   "source": [
    "# check if PRCP/TMAX has any columns with missing values (i.e., NAN)\n",
    "print(\"PRCP: \", PRCP_pa.isnull().groupby(df_pa['STATION']).sum())\n",
    "print(\"TMAX: \",TMAX_pa.isnull().groupby(df_pa['STATION']).sum())"
   ]
  },
  {
   "cell_type": "markdown",
   "metadata": {},
   "source": [
    "Before calculating the proportion of missing data, we need to take one more step:\n",
    "\n",
    "Let’s check the number of days recorded for each station to see if there are any missing dates already missing from the station data itself."
   ]
  },
  {
   "cell_type": "code",
   "execution_count": 23,
   "metadata": {},
   "outputs": [
    {
     "data": {
      "text/plain": [
       "STATION\n",
       "US1PAPH0008    22\n",
       "US1PAPH0012    88\n",
       "US1PAPH0030    83\n",
       "USC00366878    92\n",
       "USC00366886    92\n",
       "USW00013739    92\n",
       "USW00094732    92\n",
       "dtype: int64"
      ]
     },
     "execution_count": 23,
     "metadata": {},
     "output_type": "execute_result"
    }
   ],
   "source": [
    "df_pa.groupby(['STATION']).size()"
   ]
  },
  {
   "cell_type": "code",
   "execution_count": 24,
   "metadata": {},
   "outputs": [
    {
     "data": {
      "text/html": [
       "<div>\n",
       "<style scoped>\n",
       "    .dataframe tbody tr th:only-of-type {\n",
       "        vertical-align: middle;\n",
       "    }\n",
       "\n",
       "    .dataframe tbody tr th {\n",
       "        vertical-align: top;\n",
       "    }\n",
       "\n",
       "    .dataframe thead th {\n",
       "        text-align: right;\n",
       "    }\n",
       "</style>\n",
       "<table border=\"1\" class=\"dataframe\">\n",
       "  <thead>\n",
       "    <tr style=\"text-align: right;\">\n",
       "      <th></th>\n",
       "      <th>STATION</th>\n",
       "      <th>NAME</th>\n",
       "      <th>LATITUDE</th>\n",
       "      <th>LONGITUDE</th>\n",
       "      <th>ELEVATION</th>\n",
       "      <th>DATE</th>\n",
       "      <th>PRCP</th>\n",
       "      <th>PRCP_ATTRIBUTES</th>\n",
       "      <th>TMAX</th>\n",
       "      <th>TMAX_ATTRIBUTES</th>\n",
       "    </tr>\n",
       "  </thead>\n",
       "  <tbody>\n",
       "    <tr>\n",
       "      <th>263</th>\n",
       "      <td>US1PAPH0008</td>\n",
       "      <td>PHILADELPHIA 2.7 WNW, PA US</td>\n",
       "      <td>40.025</td>\n",
       "      <td>-75.18</td>\n",
       "      <td>73.5</td>\n",
       "      <td>2023-08-01</td>\n",
       "      <td>0.0</td>\n",
       "      <td>,,N</td>\n",
       "      <td>NaN</td>\n",
       "      <td>NaN</td>\n",
       "    </tr>\n",
       "    <tr>\n",
       "      <th>264</th>\n",
       "      <td>US1PAPH0008</td>\n",
       "      <td>PHILADELPHIA 2.7 WNW, PA US</td>\n",
       "      <td>40.025</td>\n",
       "      <td>-75.18</td>\n",
       "      <td>73.5</td>\n",
       "      <td>2023-08-02</td>\n",
       "      <td>0.0</td>\n",
       "      <td>,,N</td>\n",
       "      <td>NaN</td>\n",
       "      <td>NaN</td>\n",
       "    </tr>\n",
       "    <tr>\n",
       "      <th>265</th>\n",
       "      <td>US1PAPH0008</td>\n",
       "      <td>PHILADELPHIA 2.7 WNW, PA US</td>\n",
       "      <td>40.025</td>\n",
       "      <td>-75.18</td>\n",
       "      <td>73.5</td>\n",
       "      <td>2023-08-03</td>\n",
       "      <td>0.0</td>\n",
       "      <td>,,N</td>\n",
       "      <td>NaN</td>\n",
       "      <td>NaN</td>\n",
       "    </tr>\n",
       "    <tr>\n",
       "      <th>266</th>\n",
       "      <td>US1PAPH0008</td>\n",
       "      <td>PHILADELPHIA 2.7 WNW, PA US</td>\n",
       "      <td>40.025</td>\n",
       "      <td>-75.18</td>\n",
       "      <td>73.5</td>\n",
       "      <td>2023-08-04</td>\n",
       "      <td>0.0</td>\n",
       "      <td>,,N</td>\n",
       "      <td>NaN</td>\n",
       "      <td>NaN</td>\n",
       "    </tr>\n",
       "    <tr>\n",
       "      <th>267</th>\n",
       "      <td>US1PAPH0008</td>\n",
       "      <td>PHILADELPHIA 2.7 WNW, PA US</td>\n",
       "      <td>40.025</td>\n",
       "      <td>-75.18</td>\n",
       "      <td>73.5</td>\n",
       "      <td>2023-08-06</td>\n",
       "      <td>0.0</td>\n",
       "      <td>,,N</td>\n",
       "      <td>NaN</td>\n",
       "      <td>NaN</td>\n",
       "    </tr>\n",
       "    <tr>\n",
       "      <th>268</th>\n",
       "      <td>US1PAPH0008</td>\n",
       "      <td>PHILADELPHIA 2.7 WNW, PA US</td>\n",
       "      <td>40.025</td>\n",
       "      <td>-75.18</td>\n",
       "      <td>73.5</td>\n",
       "      <td>2023-08-09</td>\n",
       "      <td>0.0</td>\n",
       "      <td>,,N</td>\n",
       "      <td>NaN</td>\n",
       "      <td>NaN</td>\n",
       "    </tr>\n",
       "    <tr>\n",
       "      <th>269</th>\n",
       "      <td>US1PAPH0008</td>\n",
       "      <td>PHILADELPHIA 2.7 WNW, PA US</td>\n",
       "      <td>40.025</td>\n",
       "      <td>-75.18</td>\n",
       "      <td>73.5</td>\n",
       "      <td>2023-08-11</td>\n",
       "      <td>NaN</td>\n",
       "      <td>NaN</td>\n",
       "      <td>NaN</td>\n",
       "      <td>NaN</td>\n",
       "    </tr>\n",
       "    <tr>\n",
       "      <th>270</th>\n",
       "      <td>US1PAPH0008</td>\n",
       "      <td>PHILADELPHIA 2.7 WNW, PA US</td>\n",
       "      <td>40.025</td>\n",
       "      <td>-75.18</td>\n",
       "      <td>73.5</td>\n",
       "      <td>2023-08-12</td>\n",
       "      <td>0.0</td>\n",
       "      <td>,,N</td>\n",
       "      <td>NaN</td>\n",
       "      <td>NaN</td>\n",
       "    </tr>\n",
       "    <tr>\n",
       "      <th>271</th>\n",
       "      <td>US1PAPH0008</td>\n",
       "      <td>PHILADELPHIA 2.7 WNW, PA US</td>\n",
       "      <td>40.025</td>\n",
       "      <td>-75.18</td>\n",
       "      <td>73.5</td>\n",
       "      <td>2023-08-13</td>\n",
       "      <td>0.0</td>\n",
       "      <td>,,N</td>\n",
       "      <td>NaN</td>\n",
       "      <td>NaN</td>\n",
       "    </tr>\n",
       "    <tr>\n",
       "      <th>272</th>\n",
       "      <td>US1PAPH0008</td>\n",
       "      <td>PHILADELPHIA 2.7 WNW, PA US</td>\n",
       "      <td>40.025</td>\n",
       "      <td>-75.18</td>\n",
       "      <td>73.5</td>\n",
       "      <td>2023-08-14</td>\n",
       "      <td>0.0</td>\n",
       "      <td>,,N</td>\n",
       "      <td>NaN</td>\n",
       "      <td>NaN</td>\n",
       "    </tr>\n",
       "    <tr>\n",
       "      <th>273</th>\n",
       "      <td>US1PAPH0008</td>\n",
       "      <td>PHILADELPHIA 2.7 WNW, PA US</td>\n",
       "      <td>40.025</td>\n",
       "      <td>-75.18</td>\n",
       "      <td>73.5</td>\n",
       "      <td>2023-08-17</td>\n",
       "      <td>0.0</td>\n",
       "      <td>,,N</td>\n",
       "      <td>NaN</td>\n",
       "      <td>NaN</td>\n",
       "    </tr>\n",
       "    <tr>\n",
       "      <th>274</th>\n",
       "      <td>US1PAPH0008</td>\n",
       "      <td>PHILADELPHIA 2.7 WNW, PA US</td>\n",
       "      <td>40.025</td>\n",
       "      <td>-75.18</td>\n",
       "      <td>73.5</td>\n",
       "      <td>2023-08-19</td>\n",
       "      <td>0.0</td>\n",
       "      <td>,,N</td>\n",
       "      <td>NaN</td>\n",
       "      <td>NaN</td>\n",
       "    </tr>\n",
       "    <tr>\n",
       "      <th>275</th>\n",
       "      <td>US1PAPH0008</td>\n",
       "      <td>PHILADELPHIA 2.7 WNW, PA US</td>\n",
       "      <td>40.025</td>\n",
       "      <td>-75.18</td>\n",
       "      <td>73.5</td>\n",
       "      <td>2023-08-20</td>\n",
       "      <td>0.0</td>\n",
       "      <td>,,N</td>\n",
       "      <td>NaN</td>\n",
       "      <td>NaN</td>\n",
       "    </tr>\n",
       "    <tr>\n",
       "      <th>276</th>\n",
       "      <td>US1PAPH0008</td>\n",
       "      <td>PHILADELPHIA 2.7 WNW, PA US</td>\n",
       "      <td>40.025</td>\n",
       "      <td>-75.18</td>\n",
       "      <td>73.5</td>\n",
       "      <td>2023-08-21</td>\n",
       "      <td>0.0</td>\n",
       "      <td>,,N</td>\n",
       "      <td>NaN</td>\n",
       "      <td>NaN</td>\n",
       "    </tr>\n",
       "    <tr>\n",
       "      <th>277</th>\n",
       "      <td>US1PAPH0008</td>\n",
       "      <td>PHILADELPHIA 2.7 WNW, PA US</td>\n",
       "      <td>40.025</td>\n",
       "      <td>-75.18</td>\n",
       "      <td>73.5</td>\n",
       "      <td>2023-08-22</td>\n",
       "      <td>0.0</td>\n",
       "      <td>,,N</td>\n",
       "      <td>NaN</td>\n",
       "      <td>NaN</td>\n",
       "    </tr>\n",
       "    <tr>\n",
       "      <th>278</th>\n",
       "      <td>US1PAPH0008</td>\n",
       "      <td>PHILADELPHIA 2.7 WNW, PA US</td>\n",
       "      <td>40.025</td>\n",
       "      <td>-75.18</td>\n",
       "      <td>73.5</td>\n",
       "      <td>2023-08-23</td>\n",
       "      <td>0.0</td>\n",
       "      <td>,,N</td>\n",
       "      <td>NaN</td>\n",
       "      <td>NaN</td>\n",
       "    </tr>\n",
       "    <tr>\n",
       "      <th>279</th>\n",
       "      <td>US1PAPH0008</td>\n",
       "      <td>PHILADELPHIA 2.7 WNW, PA US</td>\n",
       "      <td>40.025</td>\n",
       "      <td>-75.18</td>\n",
       "      <td>73.5</td>\n",
       "      <td>2023-08-24</td>\n",
       "      <td>0.0</td>\n",
       "      <td>,,N</td>\n",
       "      <td>NaN</td>\n",
       "      <td>NaN</td>\n",
       "    </tr>\n",
       "    <tr>\n",
       "      <th>280</th>\n",
       "      <td>US1PAPH0008</td>\n",
       "      <td>PHILADELPHIA 2.7 WNW, PA US</td>\n",
       "      <td>40.025</td>\n",
       "      <td>-75.18</td>\n",
       "      <td>73.5</td>\n",
       "      <td>2023-08-26</td>\n",
       "      <td>0.0</td>\n",
       "      <td>,,N</td>\n",
       "      <td>NaN</td>\n",
       "      <td>NaN</td>\n",
       "    </tr>\n",
       "    <tr>\n",
       "      <th>281</th>\n",
       "      <td>US1PAPH0008</td>\n",
       "      <td>PHILADELPHIA 2.7 WNW, PA US</td>\n",
       "      <td>40.025</td>\n",
       "      <td>-75.18</td>\n",
       "      <td>73.5</td>\n",
       "      <td>2023-08-27</td>\n",
       "      <td>0.0</td>\n",
       "      <td>,,N</td>\n",
       "      <td>NaN</td>\n",
       "      <td>NaN</td>\n",
       "    </tr>\n",
       "    <tr>\n",
       "      <th>282</th>\n",
       "      <td>US1PAPH0008</td>\n",
       "      <td>PHILADELPHIA 2.7 WNW, PA US</td>\n",
       "      <td>40.025</td>\n",
       "      <td>-75.18</td>\n",
       "      <td>73.5</td>\n",
       "      <td>2023-08-28</td>\n",
       "      <td>0.0</td>\n",
       "      <td>,,N</td>\n",
       "      <td>NaN</td>\n",
       "      <td>NaN</td>\n",
       "    </tr>\n",
       "    <tr>\n",
       "      <th>283</th>\n",
       "      <td>US1PAPH0008</td>\n",
       "      <td>PHILADELPHIA 2.7 WNW, PA US</td>\n",
       "      <td>40.025</td>\n",
       "      <td>-75.18</td>\n",
       "      <td>73.5</td>\n",
       "      <td>2023-08-29</td>\n",
       "      <td>0.0</td>\n",
       "      <td>,,N</td>\n",
       "      <td>NaN</td>\n",
       "      <td>NaN</td>\n",
       "    </tr>\n",
       "    <tr>\n",
       "      <th>284</th>\n",
       "      <td>US1PAPH0008</td>\n",
       "      <td>PHILADELPHIA 2.7 WNW, PA US</td>\n",
       "      <td>40.025</td>\n",
       "      <td>-75.18</td>\n",
       "      <td>73.5</td>\n",
       "      <td>2023-08-30</td>\n",
       "      <td>0.0</td>\n",
       "      <td>,,N</td>\n",
       "      <td>NaN</td>\n",
       "      <td>NaN</td>\n",
       "    </tr>\n",
       "  </tbody>\n",
       "</table>\n",
       "</div>"
      ],
      "text/plain": [
       "         STATION                         NAME  LATITUDE  LONGITUDE  ELEVATION  \\\n",
       "263  US1PAPH0008  PHILADELPHIA 2.7 WNW, PA US    40.025     -75.18       73.5   \n",
       "264  US1PAPH0008  PHILADELPHIA 2.7 WNW, PA US    40.025     -75.18       73.5   \n",
       "265  US1PAPH0008  PHILADELPHIA 2.7 WNW, PA US    40.025     -75.18       73.5   \n",
       "266  US1PAPH0008  PHILADELPHIA 2.7 WNW, PA US    40.025     -75.18       73.5   \n",
       "267  US1PAPH0008  PHILADELPHIA 2.7 WNW, PA US    40.025     -75.18       73.5   \n",
       "268  US1PAPH0008  PHILADELPHIA 2.7 WNW, PA US    40.025     -75.18       73.5   \n",
       "269  US1PAPH0008  PHILADELPHIA 2.7 WNW, PA US    40.025     -75.18       73.5   \n",
       "270  US1PAPH0008  PHILADELPHIA 2.7 WNW, PA US    40.025     -75.18       73.5   \n",
       "271  US1PAPH0008  PHILADELPHIA 2.7 WNW, PA US    40.025     -75.18       73.5   \n",
       "272  US1PAPH0008  PHILADELPHIA 2.7 WNW, PA US    40.025     -75.18       73.5   \n",
       "273  US1PAPH0008  PHILADELPHIA 2.7 WNW, PA US    40.025     -75.18       73.5   \n",
       "274  US1PAPH0008  PHILADELPHIA 2.7 WNW, PA US    40.025     -75.18       73.5   \n",
       "275  US1PAPH0008  PHILADELPHIA 2.7 WNW, PA US    40.025     -75.18       73.5   \n",
       "276  US1PAPH0008  PHILADELPHIA 2.7 WNW, PA US    40.025     -75.18       73.5   \n",
       "277  US1PAPH0008  PHILADELPHIA 2.7 WNW, PA US    40.025     -75.18       73.5   \n",
       "278  US1PAPH0008  PHILADELPHIA 2.7 WNW, PA US    40.025     -75.18       73.5   \n",
       "279  US1PAPH0008  PHILADELPHIA 2.7 WNW, PA US    40.025     -75.18       73.5   \n",
       "280  US1PAPH0008  PHILADELPHIA 2.7 WNW, PA US    40.025     -75.18       73.5   \n",
       "281  US1PAPH0008  PHILADELPHIA 2.7 WNW, PA US    40.025     -75.18       73.5   \n",
       "282  US1PAPH0008  PHILADELPHIA 2.7 WNW, PA US    40.025     -75.18       73.5   \n",
       "283  US1PAPH0008  PHILADELPHIA 2.7 WNW, PA US    40.025     -75.18       73.5   \n",
       "284  US1PAPH0008  PHILADELPHIA 2.7 WNW, PA US    40.025     -75.18       73.5   \n",
       "\n",
       "           DATE  PRCP PRCP_ATTRIBUTES  TMAX TMAX_ATTRIBUTES  \n",
       "263  2023-08-01   0.0             ,,N   NaN             NaN  \n",
       "264  2023-08-02   0.0             ,,N   NaN             NaN  \n",
       "265  2023-08-03   0.0             ,,N   NaN             NaN  \n",
       "266  2023-08-04   0.0             ,,N   NaN             NaN  \n",
       "267  2023-08-06   0.0             ,,N   NaN             NaN  \n",
       "268  2023-08-09   0.0             ,,N   NaN             NaN  \n",
       "269  2023-08-11   NaN             NaN   NaN             NaN  \n",
       "270  2023-08-12   0.0             ,,N   NaN             NaN  \n",
       "271  2023-08-13   0.0             ,,N   NaN             NaN  \n",
       "272  2023-08-14   0.0             ,,N   NaN             NaN  \n",
       "273  2023-08-17   0.0             ,,N   NaN             NaN  \n",
       "274  2023-08-19   0.0             ,,N   NaN             NaN  \n",
       "275  2023-08-20   0.0             ,,N   NaN             NaN  \n",
       "276  2023-08-21   0.0             ,,N   NaN             NaN  \n",
       "277  2023-08-22   0.0             ,,N   NaN             NaN  \n",
       "278  2023-08-23   0.0             ,,N   NaN             NaN  \n",
       "279  2023-08-24   0.0             ,,N   NaN             NaN  \n",
       "280  2023-08-26   0.0             ,,N   NaN             NaN  \n",
       "281  2023-08-27   0.0             ,,N   NaN             NaN  \n",
       "282  2023-08-28   0.0             ,,N   NaN             NaN  \n",
       "283  2023-08-29   0.0             ,,N   NaN             NaN  \n",
       "284  2023-08-30   0.0             ,,N   NaN             NaN  "
      ]
     },
     "execution_count": 24,
     "metadata": {},
     "output_type": "execute_result"
    }
   ],
   "source": [
    "# Check \"STATION = US1PAPH0008\" with far less dates avaiable\n",
    "df_pa[df_pa['STATION'] == \"US1PAPH0008\"]"
   ]
  },
  {
   "cell_type": "markdown",
   "metadata": {},
   "source": [
    "Now that we have a better understanding of what our data looks like, let’s move on to calculating the proportion of missing data."
   ]
  },
  {
   "cell_type": "code",
   "execution_count": 25,
   "metadata": {},
   "outputs": [
    {
     "name": "stdout",
     "output_type": "stream",
     "text": [
      "PRCP:  STATION\n",
      "US1PAPH0008      4.545455\n",
      "US1PAPH0012      1.136364\n",
      "US1PAPH0030      0.000000\n",
      "USC00366878    100.000000\n",
      "USC00366886     52.173913\n",
      "USW00013739      0.000000\n",
      "USW00094732      2.173913\n",
      "dtype: float64\n",
      "-------------------------------------------------------------\n",
      "TMAX:  STATION\n",
      "US1PAPH0008    100.0\n",
      "US1PAPH0012    100.0\n",
      "US1PAPH0030    100.0\n",
      "USC00366878    100.0\n",
      "USC00366886      0.0\n",
      "USW00013739      0.0\n",
      "USW00094732      0.0\n",
      "dtype: float64\n"
     ]
    }
   ],
   "source": [
    "# calculates the proportion of missing data\n",
    "# note that there might be missing days \n",
    "\n",
    "print(\"PRCP: \", PRCP_pa.isnull().groupby(df_pa['STATION']).sum()/df_pa.groupby(['STATION']).size() * 100)\n",
    "print('-------------------------------------------------------------')\n",
    "print(\"TMAX: \", TMAX_pa.isnull().groupby(df_pa['STATION']).sum()/df_pa.groupby(['STATION']).size() * 100)"
   ]
  },
  {
   "cell_type": "markdown",
   "metadata": {},
   "source": [
    "Based on the proportion of missing data for both PRCP and TMAX, it looks like only “STATION = USW00013739” and “STATION = USW00094732” have enough complete data to be suitable for analysis. The other stations are severely impacted by missing data.\n",
    "\n",
    "For simplicity, let’s select “STATION = USW00013739”, which is the Philadelphia International Airport station. This station has full data coverage for both PRCP and TMAX, making it ideal for our analysis."
   ]
  },
  {
   "cell_type": "code",
   "execution_count": 26,
   "metadata": {},
   "outputs": [
    {
     "data": {
      "text/html": [
       "<div>\n",
       "<style scoped>\n",
       "    .dataframe tbody tr th:only-of-type {\n",
       "        vertical-align: middle;\n",
       "    }\n",
       "\n",
       "    .dataframe tbody tr th {\n",
       "        vertical-align: top;\n",
       "    }\n",
       "\n",
       "    .dataframe thead th {\n",
       "        text-align: right;\n",
       "    }\n",
       "</style>\n",
       "<table border=\"1\" class=\"dataframe\">\n",
       "  <thead>\n",
       "    <tr style=\"text-align: right;\">\n",
       "      <th></th>\n",
       "      <th>STATION</th>\n",
       "      <th>NAME</th>\n",
       "      <th>LATITUDE</th>\n",
       "      <th>LONGITUDE</th>\n",
       "      <th>ELEVATION</th>\n",
       "      <th>DATE</th>\n",
       "      <th>PRCP</th>\n",
       "      <th>PRCP_ATTRIBUTES</th>\n",
       "      <th>TMAX</th>\n",
       "      <th>TMAX_ATTRIBUTES</th>\n",
       "    </tr>\n",
       "  </thead>\n",
       "  <tbody>\n",
       "    <tr>\n",
       "      <th>88</th>\n",
       "      <td>USW00013739</td>\n",
       "      <td>PHILADELPHIA INTERNATIONAL AIRPORT, PA US</td>\n",
       "      <td>39.87326</td>\n",
       "      <td>-75.22681</td>\n",
       "      <td>2.1</td>\n",
       "      <td>2023-06-01</td>\n",
       "      <td>0.00</td>\n",
       "      <td>,,W,2400</td>\n",
       "      <td>88.0</td>\n",
       "      <td>,,W</td>\n",
       "    </tr>\n",
       "    <tr>\n",
       "      <th>89</th>\n",
       "      <td>USW00013739</td>\n",
       "      <td>PHILADELPHIA INTERNATIONAL AIRPORT, PA US</td>\n",
       "      <td>39.87326</td>\n",
       "      <td>-75.22681</td>\n",
       "      <td>2.1</td>\n",
       "      <td>2023-06-02</td>\n",
       "      <td>0.00</td>\n",
       "      <td>T,,W,2400</td>\n",
       "      <td>95.0</td>\n",
       "      <td>,,W</td>\n",
       "    </tr>\n",
       "    <tr>\n",
       "      <th>90</th>\n",
       "      <td>USW00013739</td>\n",
       "      <td>PHILADELPHIA INTERNATIONAL AIRPORT, PA US</td>\n",
       "      <td>39.87326</td>\n",
       "      <td>-75.22681</td>\n",
       "      <td>2.1</td>\n",
       "      <td>2023-06-03</td>\n",
       "      <td>0.00</td>\n",
       "      <td>,,W,2400</td>\n",
       "      <td>76.0</td>\n",
       "      <td>,,W</td>\n",
       "    </tr>\n",
       "    <tr>\n",
       "      <th>91</th>\n",
       "      <td>USW00013739</td>\n",
       "      <td>PHILADELPHIA INTERNATIONAL AIRPORT, PA US</td>\n",
       "      <td>39.87326</td>\n",
       "      <td>-75.22681</td>\n",
       "      <td>2.1</td>\n",
       "      <td>2023-06-04</td>\n",
       "      <td>0.00</td>\n",
       "      <td>,,W,2400</td>\n",
       "      <td>77.0</td>\n",
       "      <td>,,W</td>\n",
       "    </tr>\n",
       "    <tr>\n",
       "      <th>92</th>\n",
       "      <td>USW00013739</td>\n",
       "      <td>PHILADELPHIA INTERNATIONAL AIRPORT, PA US</td>\n",
       "      <td>39.87326</td>\n",
       "      <td>-75.22681</td>\n",
       "      <td>2.1</td>\n",
       "      <td>2023-06-05</td>\n",
       "      <td>0.00</td>\n",
       "      <td>,,W,2400</td>\n",
       "      <td>78.0</td>\n",
       "      <td>,,W</td>\n",
       "    </tr>\n",
       "    <tr>\n",
       "      <th>...</th>\n",
       "      <td>...</td>\n",
       "      <td>...</td>\n",
       "      <td>...</td>\n",
       "      <td>...</td>\n",
       "      <td>...</td>\n",
       "      <td>...</td>\n",
       "      <td>...</td>\n",
       "      <td>...</td>\n",
       "      <td>...</td>\n",
       "      <td>...</td>\n",
       "    </tr>\n",
       "    <tr>\n",
       "      <th>175</th>\n",
       "      <td>USW00013739</td>\n",
       "      <td>PHILADELPHIA INTERNATIONAL AIRPORT, PA US</td>\n",
       "      <td>39.87326</td>\n",
       "      <td>-75.22681</td>\n",
       "      <td>2.1</td>\n",
       "      <td>2023-08-27</td>\n",
       "      <td>0.00</td>\n",
       "      <td>T,,W,2400</td>\n",
       "      <td>88.0</td>\n",
       "      <td>,,W</td>\n",
       "    </tr>\n",
       "    <tr>\n",
       "      <th>176</th>\n",
       "      <td>USW00013739</td>\n",
       "      <td>PHILADELPHIA INTERNATIONAL AIRPORT, PA US</td>\n",
       "      <td>39.87326</td>\n",
       "      <td>-75.22681</td>\n",
       "      <td>2.1</td>\n",
       "      <td>2023-08-28</td>\n",
       "      <td>0.00</td>\n",
       "      <td>,,W,2400</td>\n",
       "      <td>84.0</td>\n",
       "      <td>,,W</td>\n",
       "    </tr>\n",
       "    <tr>\n",
       "      <th>177</th>\n",
       "      <td>USW00013739</td>\n",
       "      <td>PHILADELPHIA INTERNATIONAL AIRPORT, PA US</td>\n",
       "      <td>39.87326</td>\n",
       "      <td>-75.22681</td>\n",
       "      <td>2.1</td>\n",
       "      <td>2023-08-29</td>\n",
       "      <td>0.00</td>\n",
       "      <td>,,W,2400</td>\n",
       "      <td>80.0</td>\n",
       "      <td>,,W</td>\n",
       "    </tr>\n",
       "    <tr>\n",
       "      <th>178</th>\n",
       "      <td>USW00013739</td>\n",
       "      <td>PHILADELPHIA INTERNATIONAL AIRPORT, PA US</td>\n",
       "      <td>39.87326</td>\n",
       "      <td>-75.22681</td>\n",
       "      <td>2.1</td>\n",
       "      <td>2023-08-30</td>\n",
       "      <td>0.24</td>\n",
       "      <td>,,W,2400</td>\n",
       "      <td>85.0</td>\n",
       "      <td>,,W</td>\n",
       "    </tr>\n",
       "    <tr>\n",
       "      <th>179</th>\n",
       "      <td>USW00013739</td>\n",
       "      <td>PHILADELPHIA INTERNATIONAL AIRPORT, PA US</td>\n",
       "      <td>39.87326</td>\n",
       "      <td>-75.22681</td>\n",
       "      <td>2.1</td>\n",
       "      <td>2023-08-31</td>\n",
       "      <td>0.00</td>\n",
       "      <td>,,W,2400</td>\n",
       "      <td>81.0</td>\n",
       "      <td>,,W</td>\n",
       "    </tr>\n",
       "  </tbody>\n",
       "</table>\n",
       "<p>92 rows × 10 columns</p>\n",
       "</div>"
      ],
      "text/plain": [
       "         STATION                                       NAME  LATITUDE  \\\n",
       "88   USW00013739  PHILADELPHIA INTERNATIONAL AIRPORT, PA US  39.87326   \n",
       "89   USW00013739  PHILADELPHIA INTERNATIONAL AIRPORT, PA US  39.87326   \n",
       "90   USW00013739  PHILADELPHIA INTERNATIONAL AIRPORT, PA US  39.87326   \n",
       "91   USW00013739  PHILADELPHIA INTERNATIONAL AIRPORT, PA US  39.87326   \n",
       "92   USW00013739  PHILADELPHIA INTERNATIONAL AIRPORT, PA US  39.87326   \n",
       "..           ...                                        ...       ...   \n",
       "175  USW00013739  PHILADELPHIA INTERNATIONAL AIRPORT, PA US  39.87326   \n",
       "176  USW00013739  PHILADELPHIA INTERNATIONAL AIRPORT, PA US  39.87326   \n",
       "177  USW00013739  PHILADELPHIA INTERNATIONAL AIRPORT, PA US  39.87326   \n",
       "178  USW00013739  PHILADELPHIA INTERNATIONAL AIRPORT, PA US  39.87326   \n",
       "179  USW00013739  PHILADELPHIA INTERNATIONAL AIRPORT, PA US  39.87326   \n",
       "\n",
       "     LONGITUDE  ELEVATION        DATE  PRCP PRCP_ATTRIBUTES  TMAX  \\\n",
       "88   -75.22681        2.1  2023-06-01  0.00        ,,W,2400  88.0   \n",
       "89   -75.22681        2.1  2023-06-02  0.00       T,,W,2400  95.0   \n",
       "90   -75.22681        2.1  2023-06-03  0.00        ,,W,2400  76.0   \n",
       "91   -75.22681        2.1  2023-06-04  0.00        ,,W,2400  77.0   \n",
       "92   -75.22681        2.1  2023-06-05  0.00        ,,W,2400  78.0   \n",
       "..         ...        ...         ...   ...             ...   ...   \n",
       "175  -75.22681        2.1  2023-08-27  0.00       T,,W,2400  88.0   \n",
       "176  -75.22681        2.1  2023-08-28  0.00        ,,W,2400  84.0   \n",
       "177  -75.22681        2.1  2023-08-29  0.00        ,,W,2400  80.0   \n",
       "178  -75.22681        2.1  2023-08-30  0.24        ,,W,2400  85.0   \n",
       "179  -75.22681        2.1  2023-08-31  0.00        ,,W,2400  81.0   \n",
       "\n",
       "    TMAX_ATTRIBUTES  \n",
       "88              ,,W  \n",
       "89              ,,W  \n",
       "90              ,,W  \n",
       "91              ,,W  \n",
       "92              ,,W  \n",
       "..              ...  \n",
       "175             ,,W  \n",
       "176             ,,W  \n",
       "177             ,,W  \n",
       "178             ,,W  \n",
       "179             ,,W  \n",
       "\n",
       "[92 rows x 10 columns]"
      ]
     },
     "execution_count": 26,
     "metadata": {},
     "output_type": "execute_result"
    }
   ],
   "source": [
    "# select the station with full data coverage\n",
    "df_pa_full = df_pa[df_pa['STATION'] == \"USW00013739\"]\n",
    "pd.set_option('display.max_rows', 10) # use this in case the max number of rows hasn’t been reset to the default setting \n",
    "df_pa_full"
   ]
  },
  {
   "cell_type": "code",
   "execution_count": 27,
   "metadata": {},
   "outputs": [
    {
     "data": {
      "text/plain": [
       "88     2023-06-01\n",
       "89     2023-06-02\n",
       "90     2023-06-03\n",
       "91     2023-06-04\n",
       "92     2023-06-05\n",
       "          ...    \n",
       "175    2023-08-27\n",
       "176    2023-08-28\n",
       "177    2023-08-29\n",
       "178    2023-08-30\n",
       "179    2023-08-31\n",
       "Name: DATE, Length: 92, dtype: object"
      ]
     },
     "execution_count": 27,
     "metadata": {},
     "output_type": "execute_result"
    }
   ],
   "source": [
    "# Select columns to read\n",
    "PRCP_pa_full = df_pa_full['PRCP']\n",
    "TMAX_pa_full = df_pa_full['TMAX']\n",
    "DATE_pa_full = df_pa_full['DATE']\n",
    "DATE_pa_full"
   ]
  },
  {
   "cell_type": "markdown",
   "metadata": {},
   "source": [
    "#### <font color=red> Data Science Life Cycle Step 3: Data Exploration"
   ]
  },
  {
   "cell_type": "markdown",
   "metadata": {},
   "source": [
    "Let’s do some basic statistical calculations with our data to better understand it. "
   ]
  },
  {
   "cell_type": "code",
   "execution_count": 28,
   "metadata": {},
   "outputs": [
    {
     "name": "stdout",
     "output_type": "stream",
     "text": [
      "PRCP_pa_full_mean:  0.13836956521739133\n",
      "TMAX_pa_full_mean:  84.5\n"
     ]
    }
   ],
   "source": [
    "# Calculate mean (excluding missing values)\n",
    "PRCP_pa_full_mean = PRCP_pa_full.mean(skipna=True)\n",
    "TMAX_pa_full_mean = TMAX_pa_full.mean(skipna=True)\n",
    "print(\"PRCP_pa_full_mean: \", PRCP_pa_full_mean)\n",
    "print(\"TMAX_pa_full_mean: \", TMAX_pa_full_mean)"
   ]
  },
  {
   "cell_type": "code",
   "execution_count": 29,
   "metadata": {},
   "outputs": [
    {
     "name": "stdout",
     "output_type": "stream",
     "text": [
      "PRCP_pa_full_std:  0.3105552530829116\n",
      "TMAX_pa_full_std:  5.778893007800403\n"
     ]
    }
   ],
   "source": [
    "# Calculate standard deviation\n",
    "PRCP_pa_full_std = PRCP_pa_full.std(skipna=True)\n",
    "TMAX_pa_full_std = TMAX_pa_full.std(skipna=True)\n",
    "print(\"PRCP_pa_full_std: \", PRCP_pa_full_std)\n",
    "print(\"TMAX_pa_full_std: \", TMAX_pa_full_std)"
   ]
  },
  {
   "cell_type": "code",
   "execution_count": 30,
   "metadata": {},
   "outputs": [
    {
     "name": "stdout",
     "output_type": "stream",
     "text": [
      "PRCP_pa_full_sum:  12.730000000000002\n"
     ]
    }
   ],
   "source": [
    "# Calculate sum \n",
    "PRCP_pa_full_sum = PRCP_pa_full.sum(skipna=True)\n",
    "print(\"PRCP_pa_full_sum: \", PRCP_pa_full_sum)"
   ]
  },
  {
   "cell_type": "markdown",
   "metadata": {},
   "source": [
    "**Note**: The index for df_pa_full does not start from 0. Because **.argmax()** returns the **position** (which may not match the original index labels), it is not suitable in this case.\n",
    "\n",
    "Instead, we use **.idxmax()**, which returns the **actual index label** of the maximum value. To find the corresponding date, we then use **.loc[]** with that index label."
   ]
  },
  {
   "cell_type": "code",
   "execution_count": 31,
   "metadata": {},
   "outputs": [
    {
     "name": "stdout",
     "output_type": "stream",
     "text": [
      "PRCP_pa_full_max:  1.74\n",
      "PRCP_pa_full_max_index:  133  Date:  2023-07-16\n",
      "TMAX_pa_full_max:  95.0\n",
      "TMAX_pa_full_max_index:  89  Date:  2023-06-02\n"
     ]
    }
   ],
   "source": [
    "# Calculate maximum\n",
    "PRCP_pa_full_max = PRCP_pa_full.max(skipna=True)\n",
    "PRCP_pa_full_max_idx = PRCP_pa_full.idxmax(skipna=True)\n",
    "TMAX_pa_full_max = TMAX_pa_full.max(skipna=True)\n",
    "TMAX_pa_full_max_idx = TMAX_pa_full.idxmax(skipna=True)\n",
    "print(\"PRCP_pa_full_max: \", PRCP_pa_full_max)\n",
    "print(\"PRCP_pa_full_max_index: \", PRCP_pa_full_max_idx, \" Date: \", DATE_pa_full.loc[PRCP_pa_full_max_idx]) # \n",
    "print(\"TMAX_pa_full_max: \", TMAX_pa_full_max)\n",
    "print(\"TMAX_pa_full_max_index: \", TMAX_pa_full_max_idx, \" Date: \", DATE_pa_full.loc[TMAX_pa_full_max_idx])"
   ]
  },
  {
   "cell_type": "code",
   "execution_count": 32,
   "metadata": {},
   "outputs": [
    {
     "name": "stdout",
     "output_type": "stream",
     "text": [
      "TMAX_pa_full_min:  66.0\n",
      "TMAX_pa_full_min_index:  108  Date:  2023-06-21\n"
     ]
    }
   ],
   "source": [
    "# Calculate minimum\n",
    "TMAX_pa_full_min = TMAX_pa_full.min(skipna=True)\n",
    "TMAX_pa_full_min_idx = TMAX_pa_full.idxmin(skipna=True)\n",
    "print(\"TMAX_pa_full_min: \", TMAX_pa_full_min)\n",
    "print(\"TMAX_pa_full_min_index: \", TMAX_pa_full_min_idx, \" Date: \", DATE_pa_full.loc[TMAX_pa_full_min_idx])"
   ]
  },
  {
   "cell_type": "markdown",
   "metadata": {},
   "source": [
    "#### Time series visulization using matplotlib"
   ]
  },
  {
   "cell_type": "code",
   "execution_count": 33,
   "metadata": {},
   "outputs": [
    {
     "data": {
      "text/plain": [
       "Text(0.5, 0.98, 'Philadelphia, US')"
      ]
     },
     "execution_count": 33,
     "metadata": {},
     "output_type": "execute_result"
    },
    {
     "data": {
      "image/png": "[encoded data removed]",
      "text/plain": [
       "<Figure size 640x480 with 2 Axes>"
      ]
     },
     "metadata": {},
     "output_type": "display_data"
    }
   ],
   "source": [
    "fig, [ax1, ax2] = plt.subplots(2, 1, layout='constrained', sharex=True)\n",
    "\n",
    "# Select only x ticks and ticklabels at the start of each month\n",
    "# Again, since the index of DATE_pa_full does not start from zero, \n",
    "# we need to retrieve the correct index labels to match our dates.\n",
    "x_tlabels = ['2023-06-01', '2023-07-01', '2023-08-01', '2023-08-31']\n",
    "mask = DATE_pa_full.isin(x_tlabels)\n",
    "x_ticks = DATE_pa_full[mask].index.tolist()\n",
    "\n",
    "## ------------- plot precipitation ------------ ##\n",
    "ax1.plot(DATE_pa_full.index, PRCP_pa_full, color=\"black\")\n",
    "ax1.set_xticks(x_ticks)\n",
    "ax1.set_xticklabels(x_tlabels, ha='center')\n",
    "ax1.tick_params(axis='both', labelsize=12)\n",
    "# ax1.set_xlabel('Date', size=14)\n",
    "ax1.set_ylabel('PRCP (inch)', size=14)\n",
    "ax1.grid(True, alpha=0.15)\n",
    "\n",
    "# plot date with the maximum precipitation\n",
    "ax1.axvline(x=PRCP_pa_full_max_idx, color='blue', linestyle='--', linewidth=2)\n",
    "\n",
    "# Plot mean and mean +- one standard deviation of precipitation\n",
    "ax1.axhline(y=PRCP_pa_full_mean, color='gray', linestyle='-', linewidth=0.5)\n",
    "ax1.axhline(y=PRCP_pa_full_mean + PRCP_pa_full_std, color='gray', linestyle='-.', linewidth=0.5)\n",
    "ax1.axhline(y=PRCP_pa_full_mean - PRCP_pa_full_std, color='gray', linestyle='-.', linewidth=0.5)\n",
    "\n",
    "## ------------- plot daily maximum temperature ------------ ##\n",
    "ax2.plot(DATE_pa_full.index, TMAX_pa_full, color=\"black\")\n",
    "ax2.set_xticks(x_ticks)\n",
    "ax2.set_xticklabels(x_tlabels, ha='center')\n",
    "ax2.tick_params(axis='both', labelsize=12)\n",
    "ax2.set_xlabel('Date', size=14)\n",
    "ax2.set_ylabel('TMAX ($^\\circ$F)', size=14)\n",
    "ax2.grid(True, alpha=0.15)\n",
    "\n",
    "# plot date with the maximum and minimum daily maximum temperature\n",
    "ax2.axvline(x=TMAX_pa_full_max_idx, color='red', linestyle='--', linewidth=2)\n",
    "ax2.axvline(x=TMAX_pa_full_min_idx, color='blue', linestyle='--', linewidth=2)\n",
    "\n",
    "# plot mean and mean +- one standard deviation of daily maximum temperature\n",
    "ax2.axhline(y=TMAX_pa_full_mean, color='gray', linestyle='-', linewidth=0.5)\n",
    "ax2.axhline(y=TMAX_pa_full_mean + TMAX_pa_full_std, color='gray', linestyle='-.', linewidth=0.5)\n",
    "ax2.axhline(y=TMAX_pa_full_mean - TMAX_pa_full_std, color='gray', linestyle='-.', linewidth=0.5)\n",
    "\n",
    "plt.suptitle(\"Philadelphia, US\", size=16)\n",
    "\n",
    "# Save plot\n",
    "# plt.savefig('Philadelphia_US_PRCP_TMAX.png', format='png', dpi=600, bbox_inches='tight') "
   ]
  },
  {
   "cell_type": "markdown",
   "metadata": {},
   "source": [
    "Once again, what do you notice from this data?\n",
    "\n",
    "Lastly, let’s plot the two cities together so we can see and compare how conditions vary between them."
   ]
  },
  {
   "cell_type": "code",
   "execution_count": 34,
   "metadata": {},
   "outputs": [
    {
     "data": {
      "text/plain": [
       "<matplotlib.lines.Line2D at 0x7f21dd3bb910>"
      ]
     },
     "execution_count": 34,
     "metadata": {},
     "output_type": "execute_result"
    },
    {
     "data": {
      "image/png": "[encoded data removed]",
      "text/plain": [
       "<Figure size 1200x600 with 4 Axes>"
      ]
     },
     "metadata": {},
     "output_type": "display_data"
    }
   ],
   "source": [
    "############### Plot Layout ############### \n",
    "# ax1: display PRCP in LAHORE CITY, PK\n",
    "# ax2: display TMAX in LAHORE CITY, PK\n",
    "# ax3: display PRCP in PHILADELPHIA, US\n",
    "# ax4: display TMAX in PHILADELPHIA, US\n",
    "fig, [[ax1,ax3],[ax2,ax4]] = plt.subplots(2, 2, figsize=(12,6), layout='constrained', sharex='col')\n",
    "\n",
    "# Plot settings\n",
    "titlesize = 16\n",
    "labelsize = 12\n",
    "size = 14\n",
    "fontsize = 10\n",
    "\n",
    "# Select only x ticks and ticklabels at the start of each month\n",
    "x_ticks_pk = [0,30,61,91] \n",
    "x_tlabels_pk = [DATE_pk[k] for k in x_ticks_pk]\n",
    "\n",
    "x_tlabels_pa = ['2023-06-01', '2023-07-01', '2023-08-01', '2023-08-31']\n",
    "mask = DATE_pa_full.isin(x_tlabels_pa)\n",
    "x_ticks_pa = DATE_pa_full[mask].index.tolist()\n",
    "\n",
    "# To make y-axis consistent for the two stations:\n",
    "# PRCP_pk_max:  6.37\n",
    "# PRCP_pa_max:  1.74\n",
    "\n",
    "# TMAX_pk_min:  81.0\n",
    "# TMAX_pk_max:  107.0\n",
    "# TMAX_pa_min:  66.0\n",
    "# TMAX_pa_max:  95.0\n",
    "\n",
    "######################### LAHORE CITY, PK #########################\n",
    "## ------------- plot precipitation ------------ ##\n",
    "ax1.plot(DATE_pk, PRCP_pk, color=\"black\", label=\"PRCP\")  \n",
    "ax1.set_ylim(0, 6.5)\n",
    "ax1.set_xticks(x_ticks_pk)\n",
    "ax1.set_xticklabels(x_tlabels_pk, ha='center')\n",
    "ax1.tick_params(axis='both', labelsize=labelsize)\n",
    "ax1.set_ylabel('PRCP (inch)', size=size)\n",
    "ax1.grid(True, alpha=0.15)\n",
    "\n",
    "# plot date with the maximum precipitation\n",
    "ax1.axvline(x=PRCP_pk_max_idx, color='blue', linestyle='--', linewidth=2, label=\"Day with max PRCP\")\n",
    "\n",
    "# plot mean and mean +- one standard deviation of precipitation\n",
    "ax1.axhline(y=PRCP_pk_mean, color='gray', linestyle='-', linewidth=0.5, label=\"Seasonal mean PRCP\")\n",
    "ax1.axhline(y=PRCP_pk_mean + PRCP_pk_std, color='gray', linestyle='-.', linewidth=0.5, label=\"Seasonal mean +/- 1std PRCP\")\n",
    "ax1.axhline(y=PRCP_pk_mean - PRCP_pk_std, color='gray', linestyle='-.', linewidth=0.5)\n",
    "ax1.set_title(\"Lahore, PK\", size=titlesize)\n",
    "ax1.legend(fontsize=fontsize)\n",
    "\n",
    "## ------------- plot daily maximum temperature ------------ ##\n",
    "ax2.plot(DATE_pk, TMAX_pk, color=\"black\", label=\"TMAX\")       \n",
    "ax2.set_xticks(x_ticks_pk)\n",
    "ax2.set_xticklabels(x_tlabels_pk, ha='center')\n",
    "ax2.tick_params(axis='both', labelsize=labelsize)\n",
    "ax2.set_xlabel('Date', size=size)\n",
    "ax2.set_ylabel('TMAX ($^\\circ$F)', size=size)\n",
    "ax2.grid(True, alpha=0.15)\n",
    "\n",
    "# plot date with the maximum and minimum daily maximum temperature\n",
    "ax2.axvline(x=TMAX_pk_max_idx, color='red', linestyle='--', linewidth=2, label=\"Day with max TMAX\")\n",
    "ax2.axvline(x=TMAX_pk_min_idx, color='blue', linestyle='--', linewidth=2, label=\"Day with min TMAX\")\n",
    "\n",
    "# plot mean and mean +- one standard deviation of daily maximum temperature\n",
    "ax2.axhline(y=TMAX_pk_mean, color='gray', linestyle='-', linewidth=0.5, label=\"Seasonal mean TMAX\")\n",
    "ax2.axhline(y=TMAX_pk_mean + TMAX_pk_std, color='gray', linestyle='-.', linewidth=0.5, label=\"Seasonal mean +/- 1std TMAX\")\n",
    "ax2.axhline(y=TMAX_pk_mean - TMAX_pk_std, color='gray', linestyle='-.', linewidth=0.5)\n",
    "ax2.legend(fontsize=fontsize)\n",
    "\n",
    "######################### PHILADELPHIA, US #########################\n",
    "## ------------- plot precipitation ------------ ##\n",
    "ax3.plot(DATE_pa_full.index, PRCP_pa_full, color=\"black\")\n",
    "ax3.set_xticks(x_ticks_pa)\n",
    "ax3.set_xticklabels(x_tlabels_pa, ha='center')\n",
    "ax3.tick_params(axis='both', labelsize=labelsize)\n",
    "ax3.set_ylabel('PRCP (inch)', size=size)\n",
    "ax3.grid(True, alpha=0.15)\n",
    "\n",
    "# plot date with the maximum precipitation\n",
    "ax3.axvline(x=PRCP_pa_full_max_idx, color='blue', linestyle='--', linewidth=2)\n",
    "\n",
    "# Plot mean and mean +- one standard deviation of precipitation\n",
    "ax3.axhline(y=PRCP_pa_full_mean, color='gray', linestyle='-', linewidth=0.5)\n",
    "ax3.axhline(y=PRCP_pa_full_mean + PRCP_pa_full_std, color='gray', linestyle='-.', linewidth=0.5)\n",
    "ax3.axhline(y=PRCP_pa_full_mean - PRCP_pa_full_std, color='gray', linestyle='-.', linewidth=0.5)\n",
    "ax3.set_title(\"Philadelphia, US\", size=titlesize)\n",
    "\n",
    "## ------------- plot daily maximum temperature ------------ ##\n",
    "ax4.plot(DATE_pa_full.index, TMAX_pa_full, color=\"black\")\n",
    "ax4.set_xticks(x_ticks_pa)\n",
    "ax4.set_xticklabels(x_tlabels_pa, ha='center')\n",
    "ax4.tick_params(axis='both', labelsize=labelsize)\n",
    "ax4.set_xlabel('Date', size=size)\n",
    "ax4.set_ylabel('TMAX ($^\\circ$F)', size=size)\n",
    "ax4.grid(True, alpha=0.15)\n",
    "\n",
    "# plot date with the maximum and minimum daily maximum temperature\n",
    "ax4.axvline(x=TMAX_pa_full_max_idx, color='red', linestyle='--', linewidth=2)\n",
    "ax4.axvline(x=TMAX_pa_full_min_idx, color='blue', linestyle='--', linewidth=2)\n",
    "\n",
    "# plot mean and mean +- one standard deviation of daily maximum temperature\n",
    "ax4.axhline(y=TMAX_pa_full_mean, color='gray', linestyle='-', linewidth=0.5)\n",
    "ax4.axhline(y=TMAX_pa_full_mean + TMAX_pa_full_std, color='gray', linestyle='-.', linewidth=0.5)\n",
    "ax4.axhline(y=TMAX_pa_full_mean - TMAX_pa_full_std, color='gray', linestyle='-.', linewidth=0.5)\n",
    "\n",
    "# Save plot\n",
    "# plt.savefig('Lahore_PK_Philadelphia_US_PRCP_TMAX.png', format='png', dpi=600, bbox_inches='tight') "
   ]
  },
  {
   "cell_type": "markdown",
   "metadata": {},
   "source": [
    "### Exercises"
   ]
  },
  {
   "cell_type": "markdown",
   "metadata": {},
   "source": [
    "Hopefully by now, you’re feeling more comfortable working with pandas!\n",
    "\n",
    "To check your understanding, try rerunning this tutorial using data from different cities.\n",
    "\n",
    "Before you start, click Kernel → Restart & Clear Output to give yourself a clean slate.\n",
    "Alternatively, you can simply copy and paste the code below to begin again with new data."
   ]
  },
  {
   "cell_type": "code",
   "execution_count": null,
   "metadata": {},
   "outputs": [],
   "source": []
  }
 ],
 "metadata": {
  "kernelspec": {
   "display_name": "NERSC Python",
   "language": "python",
   "name": "python3"
  },
  "language_info": {
   "codemirror_mode": {
    "name": "ipython",
    "version": 3
   },
   "file_extension": ".py",
   "mimetype": "text/x-python",
   "name": "python",
   "nbconvert_exporter": "python",
   "pygments_lexer": "ipython3",
   "version": "3.11.7"
  }
 },
 "nbformat": 4,
 "nbformat_minor": 4
}
