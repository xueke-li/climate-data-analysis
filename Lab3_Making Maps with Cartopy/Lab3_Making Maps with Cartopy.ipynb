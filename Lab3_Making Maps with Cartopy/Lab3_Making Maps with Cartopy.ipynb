{
 "cells": [
  {
   "cell_type": "markdown",
   "metadata": {},
   "source": [
    "# Tutorial 3: Making Maps with Cartopy"
   ]
  },
  {
   "cell_type": "markdown",
   "metadata": {},
   "source": [
    "So far, we've learned how to plot data using x and y axes coordinates, creating line plots, scatter plots, and histograms. Another useful tool for visualizing climate data is plotting the data in space, i.e. making a map. \n",
    "\n",
    "In this tutorial, we will learn about the map-making package Cartopy. By the end of this tutorial, you will be able to:\n",
    "* create a map background of an area of interest\n",
    "* customize a map for your data\n",
    "* display data on a map for multiple map projections to best represent your results"
   ]
  },
  {
   "cell_type": "markdown",
   "metadata": {},
   "source": [
    "### What is Cartopy?"
   ]
  },
  {
   "cell_type": "markdown",
   "metadata": {},
   "source": [
    "Cartopy is package the focuses on geospatial data. This means it can be used for plotting data on a map, but it can also be used for plotting geographical images such as sections of a Google map. All the info about Cartopy can be found here: https://scitools.org.uk/cartopy/docs/latest/\n",
    "\n",
    "Like Matplotlib, Cartopy has several different modules. We will be working with two important modules in this tutorial: *crs* and *feature*. crs is the basic map-making module that creates the coordinates that we want. feature allows us to add coastlines, borders, oceans, and other important distinctions to our maps. We'll work through these modules in detail in this tutorial. Then, once we've made the map background, we actually use Matplotlib to plot the data. \n",
    "\n",
    "For this tutorial, we will again be using pandas to manipulate our data. We will use Matplotlib for the plotting of data on the Cartopy-created map backgrounds. "
   ]
  },
  {
   "cell_type": "markdown",
   "metadata": {},
   "source": [
    "### Data Preparation"
   ]
  },
  {
   "cell_type": "markdown",
   "metadata": {},
   "source": [
    "**Note:** If you get a <font color=red>ModuleNotFoundError</font> when importing Cartopy modules, then you will need to install this package. Insert a new cell, type \"**!pip install cartopy**\". Note: in Jupyter notebooks, the exclamation mark (!) at the beginning of a line in a code cell indicates that the following command is a shell command"
   ]
  },
  {
   "cell_type": "code",
   "execution_count": null,
   "metadata": {},
   "outputs": [],
   "source": [
    "!pip install cartopy"
   ]
  },
  {
   "cell_type": "code",
   "execution_count": null,
   "metadata": {},
   "outputs": [],
   "source": [
    "# import packages\n",
    "import pandas as pd\n",
    "import matplotlib.pyplot as plt\n",
    "import numpy as np\n",
    "from cartopy import crs, feature # we only want the crs and feature modules from cartopy"
   ]
  },
  {
   "cell_type": "code",
   "execution_count": null,
   "metadata": {},
   "outputs": [],
   "source": [
    "# we'll be using our weather station data again\n",
    "csvfile_pk = 'LAHORE_PK.csv' \n",
    "csvfile_pa = 'PHILADELPHIA_US.csv'\n",
    "\n",
    "# read the data\n",
    "df_pk = pd.read_csv(csvfile_pk, sep=',')\n",
    "df_pa = pd.read_csv(csvfile_pa, sep=',')\n",
    "df_pk"
   ]
  },
  {
   "cell_type": "markdown",
   "metadata": {},
   "source": [
    "### Making a Map"
   ]
  },
  {
   "cell_type": "markdown",
   "metadata": {},
   "source": [
    "There are a few steps to making a map. \n",
    "1. Identify the coordinates of your area of interest\n",
    "2. Make a grid on your coordinates of interest\n",
    "3. Select a map projection\n",
    "4. Create a pyplot figure using your grid and map projection\n",
    "5. Add the relevant features to your figure\n",
    "6. Plot the data"
   ]
  },
  {
   "cell_type": "markdown",
   "metadata": {},
   "source": [
    "#### 1. Identify the coordinates\n",
    "In some cases, your data will have a pre-made grid of the latitude and longitude coordinates for you. This makes it really easy. In other cases, you might need to decide on the coordinates yourself. Our data does have latitude and longitude coordinates, but it does not tell us the size of the grid we want. We can use our latitude and longitude data to make an appropriately sized grid."
   ]
  },
  {
   "cell_type": "code",
   "execution_count": null,
   "metadata": {},
   "outputs": [],
   "source": [
    "latmin_pk = df_pk['LATITUDE'].min()\n",
    "latmax_pk = df_pk['LATITUDE'].max()\n",
    "lonmin_pk = df_pk['LONGITUDE'].min()\n",
    "lonmax_pk = df_pk['LONGITUDE'].max()\n",
    "print('Lat Range: %.4f - %.4f' % (latmin_pk,latmax_pk))\n",
    "print('Lon Range: %.4f - %.4f' % (lonmin_pk,lonmax_pk))"
   ]
  },
  {
   "cell_type": "code",
   "execution_count": null,
   "metadata": {},
   "outputs": [],
   "source": [
    "latmin_pa = df_pa['LATITUDE'].min()\n",
    "latmax_pa = df_pa['LATITUDE'].max()\n",
    "lonmin_pa = df_pa['LONGITUDE'].min()\n",
    "lonmax_pa = df_pa['LONGITUDE'].max()\n",
    "print('Lat Range: %.4f - %.4f' % (latmin_pa,latmax_pa))\n",
    "print('Lon Range: %.4f - %.4f' % (lonmin_pa,lonmax_pa))"
   ]
  },
  {
   "cell_type": "markdown",
   "metadata": {},
   "source": [
    "Since Lahore only has one station, we’ll use Philadelphia, which has multiple stations, for this exercise to generate the geographic extent. Now we know the max and min values of our coordinates. This will help us to make a box around our data. It is best to round up/down to give a little bit of buffer space around the data."
   ]
  },
  {
   "cell_type": "code",
   "execution_count": null,
   "metadata": {},
   "outputs": [],
   "source": [
    "# buffered lat/lon values\n",
    "latmin = 39.8\n",
    "latmax = 40.1\n",
    "lonmin = -75.3\n",
    "lonmax = -74.95"
   ]
  },
  {
   "cell_type": "markdown",
   "metadata": {},
   "source": [
    "#### 2. Make a grid\n",
    "\n",
    "This step will vary depending on the type of data you are plotting. We will be making a simple dot map, so we basically need to set a max and min range for our map's box size. If we were using gridded data that covered the whole area, like satellite data or a model output, we would need to make a meshgrid that had a lat and lon coordinate pair for each grid cell. We will go through that process in a later tutorial."
   ]
  },
  {
   "cell_type": "code",
   "execution_count": null,
   "metadata": {},
   "outputs": [],
   "source": [
    "# set the extents of our box\n",
    "extent = [lonmin,lonmax,latmin,latmax]"
   ]
  },
  {
   "cell_type": "markdown",
   "metadata": {},
   "source": [
    "#### 3. Select a map projection\n",
    "\n",
    "We also need to decide on a map projection. A map projection tells you how the map will be displayed. Check out this website for examples: https://scitools.org.uk/cartopy/docs/latest/crs/projections.html"
   ]
  },
  {
   "cell_type": "code",
   "execution_count": null,
   "metadata": {},
   "outputs": [],
   "source": [
    "# let's set our projection as PlateCarree\n",
    "proj = crs.PlateCarree()"
   ]
  },
  {
   "cell_type": "markdown",
   "metadata": {},
   "source": [
    "#### 4. Create a figure\n",
    "\n",
    "Now that we have the basics ready, we can put them together in a pyplot figure to set up our map background. "
   ]
  },
  {
   "cell_type": "code",
   "execution_count": null,
   "metadata": {},
   "outputs": [],
   "source": [
    "# create a pyplot figure\n",
    "fig = plt.figure(figsize=(8,8))\n",
    "\n",
    "# create a new axes instance with the map information\n",
    "ax = fig.add_subplot(1,1,1,projection=proj)\n",
    "# ax.set_extent([lonmin,lonmax,latmin,latmax],crs.PlateCarree())\n",
    "ax.set_extent(extent)\n",
    "\n",
    "# add gridlines\n",
    "gl = ax.gridlines(crs.PlateCarree(),draw_labels=True,linewidth=1,color='gray',alpha=0.5,linestyle='--')\n",
    "plt.show()"
   ]
  },
  {
   "cell_type": "markdown",
   "metadata": {},
   "source": [
    "Woot! A box! How can we tell if this box is set up correctly? We can add feature details like rivers, state borders, etc. to determine if it's in the right place."
   ]
  },
  {
   "cell_type": "markdown",
   "metadata": {},
   "source": [
    "#### 5. Add relevant features\n",
    "\n",
    "**Note:** Depending on which version of Cartopy you have installed, you may get some download warnings or errors with the features. \n",
    "* If you get errors and the map does not show, run a \"!pip install --update-all cartopy\" command in a new cell.\n",
    "* If you are getting Download Warnings but the figure does appear, then don't worry. If you rerun the cell, you will see the Download Warning has disappeared. If you add new features, you will get a new warning, but it'll go away the next time you use that feature. When Cartopy was initially installed, it didn't download all the different map features with it. So it has to download them the first time you want to use those features in a plot."
   ]
  },
  {
   "cell_type": "code",
   "execution_count": null,
   "metadata": {},
   "outputs": [],
   "source": [
    "# create a pyplot figure\n",
    "fig = plt.figure(figsize=(12,4))\n",
    "\n",
    "# create a new axes instance with the map information\n",
    "ax = fig.add_subplot(1,1,1,projection=proj)\n",
    "ax.set_extent(extent)\n",
    "\n",
    "# add gridlines\n",
    "gl = ax.gridlines(crs.PlateCarree(),draw_labels=True,linewidth=1,color='gray',alpha=0.5,linestyle='--')\n",
    "\n",
    "# add features: \n",
    "ax.add_feature(feature.STATES)\n",
    "ax.add_feature(feature.LAND)\n",
    "ax.add_feature(feature.OCEAN, facecolor='lightblue')\n",
    "\n",
    "plt.show()"
   ]
  },
  {
   "cell_type": "markdown",
   "metadata": {},
   "source": [
    "Success! That is definitely a box around Philadephia! If you want to change the area of the map, go back to step 1 and select new lat and lon values. \n",
    "\n",
    "Ok, now to plot the data!"
   ]
  },
  {
   "cell_type": "markdown",
   "metadata": {},
   "source": [
    "#### 6. Plot the data\n",
    "\n",
    "The daily ozone data has lat and lon coordinates. But we have data for every day in the month of July, which is too much to plot all at once. Instead, let's pick just one day and plot that data first. "
   ]
  },
  {
   "cell_type": "code",
   "execution_count": null,
   "metadata": {},
   "outputs": [],
   "source": [
    "# select monitor data for a specific day\n",
    "sel_day = df_pa[df_pa['DATE'] == '2023-07-16']\n",
    "sel_day"
   ]
  },
  {
   "cell_type": "code",
   "execution_count": null,
   "metadata": {},
   "outputs": [],
   "source": [
    "# get the lat, lon, and y-data\n",
    "lats = sel_day['LATITUDE']\n",
    "lons = sel_day['LONGITUDE']\n",
    "TMAX = sel_day['TMAX']\n",
    "PRCP = sel_day['PRCP']"
   ]
  },
  {
   "cell_type": "code",
   "execution_count": null,
   "metadata": {},
   "outputs": [],
   "source": [
    "# create a pyplot figure for TMAX\n",
    "fig = plt.figure(figsize=(8,8))\n",
    "\n",
    "# create a new axes instance with the map information\n",
    "ax = fig.add_subplot(1,1,1,projection=proj)\n",
    "ax.set_extent(extent)\n",
    "\n",
    "# add gridlines\n",
    "gl = ax.gridlines(crs.PlateCarree(),draw_labels=True,linewidth=1,color='gray',alpha=0.5,linestyle='--')\n",
    "\n",
    "# manipulate gridliner object\n",
    "gl.xlabels_top = False\n",
    "gl.ylabels_right = False\n",
    "\n",
    "# add features\n",
    "ax.add_feature(feature.STATES)\n",
    "ax.add_feature(feature.LAND)\n",
    "ax.add_feature(feature.OCEAN, facecolor='lightblue')\n",
    "\n",
    "# plot the data -- note, we use plt.scatter to add data on top of the map!\n",
    "plt.scatter(lons, lats, s=100, c=TMAX, cmap='viridis', edgecolors='black', linewidth=1.5) # Check out more Colormaps options here: https://matplotlib.org/stable/users/explain/colors/colormaps.html\n",
    "plt.colorbar(label='TMAX ($^\\circ$F)', shrink=0.69)\n",
    "plt.show()"
   ]
  },
  {
   "cell_type": "markdown",
   "metadata": {},
   "source": [
    "Awesome work, everyone! 🎉\n",
    "\n",
    "We’ve created a map, plotted our data, and now we can start analyzing what it shows.\n",
    "\n",
    "From this map, it’s clear that the highest daily maximum temperature (TMAX) was recorded near the Philadelphia Franklin Institute (96°F), followed by Northeast Philadelphia Airport and Philadelphia International Airport.\n",
    "\n",
    "You might also notice that three days have missing data, shown as empty circles on the map.\n",
    "\n",
    "Now, let’s repeat this process with the precipitation (PRCP) data to see what patterns we can find there."
   ]
  },
  {
   "cell_type": "code",
   "execution_count": null,
   "metadata": {},
   "outputs": [],
   "source": [
    "# create a pyplot figure for PRCP\n",
    "fig = plt.figure(figsize=(8,8))\n",
    "\n",
    "# create a new axes instance with the map information\n",
    "ax = fig.add_subplot(1,1,1,projection=proj)\n",
    "ax.set_extent(extent)\n",
    "\n",
    "# add gridlines\n",
    "gl = ax.gridlines(crs.PlateCarree(),draw_labels=True,linewidth=1,color='gray',alpha=0.5,linestyle='--')\n",
    "\n",
    "# manipulate gridliner object\n",
    "gl.xlabels_top = False\n",
    "gl.ylabels_right = False\n",
    "\n",
    "# add features\n",
    "ax.add_feature(feature.STATES)\n",
    "ax.add_feature(feature.LAND)\n",
    "ax.add_feature(feature.OCEAN, facecolor='lightblue')\n",
    "\n",
    "# plot the data -- note, we use plt.scatter to add data on top of the map!\n",
    "plt.scatter(lons, lats, s=100, c=PRCP, cmap='viridis', edgecolors='black', linewidth=1.5) # Check out more Colormaps options here: https://matplotlib.org/stable/users/explain/colors/colormaps.html\n",
    "plt.colorbar(label='PRCP (inch)', shrink=0.69)\n",
    "plt.show()"
   ]
  },
  {
   "cell_type": "markdown",
   "metadata": {},
   "source": [
    "Now we can see that the occurrence of precipitation at Northeast Philadelphia Airport and Philadelphia International Airport might be the reason why their TMAX values remained relatively lower."
   ]
  },
  {
   "cell_type": "markdown",
   "metadata": {},
   "source": [
    "### The importance of projections\n",
    "\n",
    "Now that we've learned how to make a map, let's dig a little deeper into some of the details of Cartopy. Specifically, what is going on with the map projections? What do different projections look like? How does this affect the data?"
   ]
  },
  {
   "cell_type": "markdown",
   "metadata": {},
   "source": [
    "To understand the importance of map projections, we need to look at a much larger scale than just the city level. Let’s switch our focus to data covering the entire United States – in fact, the dataset we’re about to use covers the whole globe!\n",
    "\n",
    "This dataset is quite large and was downloaded from the https://www.ncei.noaa.gov/data/global-historical-climatology-network-daily/. Be aware that downloading it may take some time due to its size."
   ]
  },
  {
   "cell_type": "code",
   "execution_count": null,
   "metadata": {},
   "outputs": [],
   "source": [
    "# specify file path\n",
    "csvfile = 'ghcnd_2023.csv' \n",
    "csvfile_stations =  'ghcnd-stations.csv'"
   ]
  },
  {
   "cell_type": "markdown",
   "metadata": {},
   "source": [
    "Since the data file does not include a header, we first need to manually specify the column headers before working with the data."
   ]
  },
  {
   "cell_type": "code",
   "execution_count": null,
   "metadata": {},
   "outputs": [],
   "source": [
    "######################## https://www.ncei.noaa.gov/pub/data/ghcn/daily/by_year/readme-by_year.txt\n",
    "### ID = 11 character station identification code\n",
    "### YEAR/MONTH/DAY = 8 character date in YYYYMMDD format (e.g. 19860529 = May 29, 1986)\n",
    "### ELEMENT = 4 character indicator of element type \n",
    "### DATA VALUE = 5 character data value for ELEMENT \n",
    "### M-FLAG = 1 character Measurement Flag \n",
    "### Q-FLAG = 1 character Quality Flag \n",
    "### S-FLAG = 1 character Source Flag \n",
    "### OBS-TIME = 4-character time of observation in hour-minute format (i.e. 0700 =7:00 am)\n",
    "################################################################################################  \n",
    "colnames=['STATION', 'DATE', 'ELEMENT', 'VALUE', 'M-FLAG', 'Q-FLAG', 'S-FLAG', 'OBS-TIME']\n",
    "df = pd.read_csv(csvfile, names=colnames, header=None)\n",
    "df"
   ]
  },
  {
   "cell_type": "markdown",
   "metadata": {},
   "source": [
    "This dataset has a different data structure compared to what we used in our previous tutorial. To explore and understand what it contains, we can use the .unique() function to check the unique values within the DATE and ELEMENT columns."
   ]
  },
  {
   "cell_type": "code",
   "execution_count": null,
   "metadata": {},
   "outputs": [],
   "source": [
    "df['DATE'].unique()"
   ]
  },
  {
   "cell_type": "code",
   "execution_count": null,
   "metadata": {},
   "outputs": [],
   "source": [
    "df['ELEMENT'].unique()"
   ]
  },
  {
   "cell_type": "markdown",
   "metadata": {},
   "source": [
    "Again, we will focus on ‘TMAX’ (daily maximum temperature) and ‘PRCP’ (precipitation) in our analysis. Let’s also narrow down our time period to July."
   ]
  },
  {
   "cell_type": "code",
   "execution_count": null,
   "metadata": {},
   "outputs": [],
   "source": [
    "#### ------------------------------\n",
    "#### Variable      Type\n",
    "#### ------------------------------\n",
    "#### ID            Character\n",
    "#### YEAR          Integer\n",
    "#### MONTH         Integer\n",
    "#### ELEMENT       Character\n",
    "#### VALUE         Integer\n",
    "#### MFLAG         Character\n",
    "#### QFLAG         Character\n",
    "#### SFLAG         Character\n",
    "\n",
    "# Select TMAX\n",
    "df_TMAX = df[df['ELEMENT']=='TMAX']\n",
    "df_TMAX_July = df_TMAX[(df_TMAX['DATE'] >= 20230701) & (df_TMAX['DATE'] <= 20230731)]\n",
    "\n",
    "# Select PRCP\n",
    "df_PRCP = df[df['ELEMENT']=='PRCP']\n",
    "df_PRCP_July = df_PRCP[(df_PRCP['DATE'] >= 20230701) & (df_PRCP['DATE'] <= 20230731)]\n",
    "df_PRCP_July"
   ]
  },
  {
   "cell_type": "markdown",
   "metadata": {},
   "source": [
    "Note: This dataset does not include latitude and longitude information. Therefore, our next step will be to retrieve this information from the GHCND stations file, which contains the geographic coordinates for each station."
   ]
  },
  {
   "cell_type": "code",
   "execution_count": null,
   "metadata": {},
   "outputs": [],
   "source": [
    "# Read stations\n",
    "colnames_stations=['STATION', 'LATITUDE', 'LONGITUDE', 'ELEVATION', 'NAME']\n",
    "df_stations = pd.read_csv(csvfile_stations, names=colnames_stations, header=None, index_col=False)\n",
    "df_stations"
   ]
  },
  {
   "cell_type": "markdown",
   "metadata": {},
   "source": [
    "Now, let's use the **.merge()** function to combine our dataset with the station coordinate information, using \"STATION\" as the common key. This will allow us to add the latitude and longitude data to our main dataset."
   ]
  },
  {
   "cell_type": "code",
   "execution_count": null,
   "metadata": {},
   "outputs": [],
   "source": [
    "df_TMAX_July_coord = pd.merge(df_TMAX_July, df_stations, on=\"STATION\", how=\"left\")\n",
    "df_PRCP_July_coord = pd.merge(df_PRCP_July, df_stations, on=\"STATION\", how=\"left\")\n",
    "df_PRCP_July_coord"
   ]
  },
  {
   "cell_type": "markdown",
   "metadata": {},
   "source": [
    "Let’s check if any coordinate information is missing from our merged dataset."
   ]
  },
  {
   "cell_type": "code",
   "execution_count": null,
   "metadata": {},
   "outputs": [],
   "source": [
    "print(df_TMAX_July_coord[df_TMAX_July_coord['LATITUDE'].isnull()==True]['STATION'].unique())\n",
    "print(df_TMAX_July_coord[df_TMAX_July_coord['LONGITUDE'].isnull()==True]['STATION'].unique())"
   ]
  },
  {
   "cell_type": "markdown",
   "metadata": {},
   "source": [
    "Great job so far! Next, let’s filter our data to keep only high-quality observations.\n",
    "We can refer to Table 3 (Source Flag/Attribute): https://www.ncei.noaa.gov/data/global-historical-climatology-network-daily/doc/GHCND_documentation.pdf to understand the quality codes."
   ]
  },
  {
   "cell_type": "code",
   "execution_count": null,
   "metadata": {},
   "outputs": [],
   "source": [
    "df_TMAX_July_coord_qflag = df_TMAX_July_coord[df_TMAX_July_coord['Q-FLAG'].isnull()==True]\n",
    "df_PRCP_July_coord_qflag = df_PRCP_July_coord[df_PRCP_July_coord['Q-FLAG'].isnull()==True]"
   ]
  },
  {
   "cell_type": "markdown",
   "metadata": {},
   "source": [
    "Now, let’s check the geographical extent of our data. This will help us understand the spatial coverage and define appropriate boundaries for mapping and analysis."
   ]
  },
  {
   "cell_type": "code",
   "execution_count": null,
   "metadata": {},
   "outputs": [],
   "source": [
    "# what are the min and max coordinates of monitors in our dataset?\n",
    "latmin = df_TMAX_July_coord_qflag['LATITUDE'].min()\n",
    "latmax = df_TMAX_July_coord_qflag['LATITUDE'].max()\n",
    "lonmin = df_TMAX_July_coord_qflag['LONGITUDE'].min()\n",
    "lonmax = df_TMAX_July_coord_qflag['LONGITUDE'].max()\n",
    "print('Lat Range: %.4f - %.4f' % (latmin,latmax))\n",
    "print('Lon Range: %.4f - %.4f' % (lonmin,lonmax))"
   ]
  },
  {
   "cell_type": "markdown",
   "metadata": {},
   "source": [
    "This dataset covers almost the entire globe, so let's define the global extent"
   ]
  },
  {
   "cell_type": "code",
   "execution_count": null,
   "metadata": {},
   "outputs": [],
   "source": [
    "# define NA bounding box \n",
    "latmin = -90  \n",
    "latmax = 90   \n",
    "lonmin = -180 \n",
    "lonmax = 180  "
   ]
  },
  {
   "cell_type": "code",
   "execution_count": null,
   "metadata": {},
   "outputs": [],
   "source": [
    "# set the extents of our box\n",
    "extent = [lonmin,lonmax,latmin,latmax]"
   ]
  },
  {
   "cell_type": "markdown",
   "metadata": {},
   "source": [
    "Now, let’s filter the data to include only those days with “scorching temperatures,” which we define as temperatures greater than 45°C.\n",
    "\n",
    "Note: The temperature values in this dataset are recorded in tenths of degrees Celsius, so a temperature of 45°C is represented as 450. Therefore, our threshold for filtering TMAX will be greater than 450."
   ]
  },
  {
   "cell_type": "code",
   "execution_count": null,
   "metadata": {},
   "outputs": [],
   "source": [
    "df_TMAX_July_coord_qflag_thres = df_TMAX_July_coord_qflag[df_TMAX_July_coord_qflag['VALUE'] > 450]\n",
    "df_TMAX_July_coord_qflag_thres_sorted = df_TMAX_July_coord_qflag_thres.sort_values(by='VALUE', ascending=True)\n",
    "df_TMAX_July_coord_qflag_thres_sorted"
   ]
  },
  {
   "cell_type": "code",
   "execution_count": null,
   "metadata": {},
   "outputs": [],
   "source": [
    "# PlateCarree\n",
    "proj = crs.PlateCarree()"
   ]
  },
  {
   "cell_type": "code",
   "execution_count": null,
   "metadata": {},
   "outputs": [],
   "source": [
    "# create a pyplot figure\n",
    "fig = plt.figure(figsize=(8,10))\n",
    "cmap_TMAX = 'hot_r'\n",
    "\n",
    "# create a new axes instance with the map information\n",
    "ax = fig.add_subplot(1,1,1,projection=proj)\n",
    "ax.set_extent(extent)\n",
    "\n",
    "# add gridlines\n",
    "gl = ax.gridlines(crs.PlateCarree(),draw_labels=True,linewidth=1,color='gray',alpha=0.5,linestyle='--')\n",
    "\n",
    "# manipulate gridliner object\n",
    "gl.xlabels_top = False\n",
    "gl.ylabels_right = False\n",
    "\n",
    "# add features\n",
    "ax.add_feature(feature.LAND)\n",
    "ax.add_feature(feature.OCEAN, facecolor='lightblue')\n",
    "ax.add_feature(feature.COASTLINE)\n",
    "\n",
    "# plot the data -- note, we use plt.scatter to add data on top of the map!\n",
    "plt.scatter(df_TMAX_July_coord_qflag_thres_sorted['LONGITUDE'], df_TMAX_July_coord_qflag_thres_sorted['LATITUDE'], \n",
    "           c=df_TMAX_July_coord_qflag_thres_sorted['VALUE']/10.0, s=30, cmap=cmap_TMAX, edgecolors='black')\n",
    "plt.colorbar(label='TMAX ($^\\circ$F)', shrink=0.33)\n",
    "\n",
    "plt.show()"
   ]
  },
  {
   "cell_type": "markdown",
   "metadata": {},
   "source": [
    "Ta da! We have now transformed our flat data so that it can be plotted on a curved map. Basically any time you plot data onto a large map using a non-flat projection, you will need to add a transformation. "
   ]
  },
  {
   "cell_type": "markdown",
   "metadata": {},
   "source": [
    "Let’s apply a similar filter for precipitation data. This time, we want to select only the days with heavy precipitation, defined as more than 50 mm.\n",
    "\n",
    "Note: If the precipitation values are recorded in tenths of millimeters, then 50 mm would be represented as 500 in the dataset.\n",
    "\n",
    "So, we will filter PRCP for values greater than 500."
   ]
  },
  {
   "cell_type": "code",
   "execution_count": null,
   "metadata": {},
   "outputs": [],
   "source": [
    "df_PRCP_July_coord_qflag_thres = df_PRCP_July_coord_qflag[df_PRCP_July_coord_qflag['VALUE'] > 500]\n",
    "df_PRCP_July_coord_qflag_thres_sorted = df_PRCP_July_coord_qflag_thres.sort_values(by='VALUE', ascending=True)\n",
    "df_PRCP_July_coord_qflag_thres_sorted"
   ]
  },
  {
   "cell_type": "code",
   "execution_count": null,
   "metadata": {},
   "outputs": [],
   "source": [
    "# PlateCarree\n",
    "proj = crs.PlateCarree()"
   ]
  },
  {
   "cell_type": "code",
   "execution_count": null,
   "metadata": {},
   "outputs": [],
   "source": [
    "# create a pyplot figure\n",
    "fig = plt.figure(figsize=(8,10))\n",
    "cmap_PRCP = 'cool'\n",
    "\n",
    "# create a new axes instance with the map information\n",
    "ax = fig.add_subplot(1,1,1,projection=proj)\n",
    "ax.set_extent(extent)\n",
    "\n",
    "# add gridlines\n",
    "gl = ax.gridlines(crs.PlateCarree(),draw_labels=True,linewidth=1,color='gray',alpha=0.5,linestyle='--')\n",
    "\n",
    "# manipulate gridliner object\n",
    "gl.xlabels_top = False\n",
    "gl.ylabels_right = False\n",
    "\n",
    "# add features\n",
    "ax.add_feature(feature.LAND)\n",
    "ax.add_feature(feature.OCEAN, facecolor='lightblue')\n",
    "ax.add_feature(feature.COASTLINE)\n",
    "\n",
    "# plot the data -- note, we use plt.scatter to add data on top of the map!\n",
    "plt.scatter(df_PRCP_July_coord_qflag_thres_sorted['LONGITUDE'], df_PRCP_July_coord_qflag_thres_sorted['LATITUDE'], \n",
    "           c=df_PRCP_July_coord_qflag_thres_sorted['VALUE']/10.0, s=30, cmap=cmap_PRCP, edgecolors='black',vmin=50, vmax=300,)\n",
    "plt.colorbar(label='PRCP (mm)', shrink=0.33)\n",
    "\n",
    "plt.show()"
   ]
  },
  {
   "cell_type": "markdown",
   "metadata": {},
   "source": [
    "### Bonus"
   ]
  },
  {
   "cell_type": "markdown",
   "metadata": {},
   "source": [
    "What do you notice about the shape of this map? Does the map seem to be the right shape? Or do things look a bit flattened? That's what happens with PlateCarree, Let's use United States as an example to try some other projections. "
   ]
  },
  {
   "cell_type": "code",
   "execution_count": null,
   "metadata": {},
   "outputs": [],
   "source": [
    "# buffered lat and lon values\n",
    "latmin = 15\n",
    "latmax = 65\n",
    "lonmin = -60\n",
    "lonmax = -150"
   ]
  },
  {
   "cell_type": "code",
   "execution_count": null,
   "metadata": {},
   "outputs": [],
   "source": [
    "# set the extents of our box\n",
    "extent = [lonmin,lonmax,latmin,latmax]"
   ]
  },
  {
   "cell_type": "code",
   "execution_count": null,
   "metadata": {},
   "outputs": [],
   "source": [
    "# Albers Equal Area projection\n",
    "proj = crs.AlbersEqualArea()"
   ]
  },
  {
   "cell_type": "code",
   "execution_count": null,
   "metadata": {},
   "outputs": [],
   "source": [
    "# create a pyplot figure\n",
    "fig = plt.figure(figsize=(8,10))\n",
    "\n",
    "# create a new axes instance with the map information\n",
    "ax = fig.add_subplot(1,1,1,projection=proj)\n",
    "ax.set_extent(extent)\n",
    "\n",
    "# add gridlines\n",
    "gl = ax.gridlines(crs.PlateCarree(),draw_labels=True,linewidth=1,color='gray',alpha=0.5,linestyle='--')\n",
    "\n",
    "# add features\n",
    "ax.add_feature(feature.LAND)\n",
    "ax.add_feature(feature.OCEAN, facecolor='lightblue')\n",
    "ax.add_feature(feature.COASTLINE)\n",
    "plt.show()"
   ]
  },
  {
   "cell_type": "markdown",
   "metadata": {},
   "source": [
    "That's pretty funky! The Albers Equal Area projection is a conical projection, meaning it pretends the globe is actually a cone. This is how it accounts for curvature on our flat computer screens."
   ]
  },
  {
   "cell_type": "code",
   "execution_count": null,
   "metadata": {},
   "outputs": [],
   "source": [
    "# Lambert Conformal. This projection is useful if you ever use CMAQ or WRF data\n",
    "proj = crs.LambertConformal()"
   ]
  },
  {
   "cell_type": "code",
   "execution_count": null,
   "metadata": {},
   "outputs": [],
   "source": [
    "# create a pyplot figure\n",
    "fig = plt.figure(figsize=(8,10))\n",
    "\n",
    "# create a new axes instance with the map information\n",
    "ax = fig.add_subplot(1,1,1,projection=proj)\n",
    "ax.set_extent(extent)\n",
    "\n",
    "# add gridlines\n",
    "gl = ax.gridlines(crs.PlateCarree(),draw_labels=True,linewidth=1,color='gray',alpha=0.5,linestyle='--')\n",
    "\n",
    "# add features\n",
    "ax.add_feature(feature.LAND)\n",
    "ax.add_feature(feature.OCEAN, facecolor='lightblue')\n",
    "ax.add_feature(feature.COASTLINE)\n",
    "plt.show()"
   ]
  },
  {
   "cell_type": "markdown",
   "metadata": {},
   "source": [
    "Again, there is curvature in the map. But this time the US is centered a bit better. "
   ]
  },
  {
   "cell_type": "code",
   "execution_count": null,
   "metadata": {},
   "outputs": [],
   "source": [
    "# Robinson projection\n",
    "proj = crs.Robinson()"
   ]
  },
  {
   "cell_type": "code",
   "execution_count": null,
   "metadata": {},
   "outputs": [],
   "source": [
    "# create a pyplot figure\n",
    "fig = plt.figure(figsize=(8,10))\n",
    "\n",
    "# create a new axes instance with the map information\n",
    "ax = fig.add_subplot(1,1,1,projection=proj)\n",
    "ax.set_extent(extent)\n",
    "\n",
    "# add gridlines\n",
    "gl = ax.gridlines(crs.PlateCarree(),draw_labels=True,linewidth=1,color='gray',alpha=0.5,linestyle='--')\n",
    "\n",
    "# add features\n",
    "ax.add_feature(feature.LAND)\n",
    "ax.add_feature(feature.OCEAN, facecolor='lightblue')\n",
    "ax.add_feature(feature.COASTLINE)\n",
    "plt.show()"
   ]
  },
  {
   "cell_type": "markdown",
   "metadata": {},
   "source": [
    "### Exercises\n",
    "\n",
    "**1.** Now it's your turn! Pick any location you’re interested in and follow the steps above to plot the data on a local map. You can set your map to be as zoomed-in (small area) or zoomed-out (large area) as you like. Make sure to include all the monitoring stations in your selected area."
   ]
  },
  {
   "cell_type": "markdown",
   "metadata": {},
   "source": [
    "**2.** Choose any other date that interests you and repeat the steps above to plot the data on a global map. Observe how the patterns change over time and think about:\n",
    "- What differences do you notice compared to other dates?\n",
    "- Are there regions that consistently show extreme temperatures or precipitation?"
   ]
  },
  {
   "cell_type": "markdown",
   "metadata": {},
   "source": [
    "**3.** Try to make a map of the United States (or other selected countries) using a new projection from https://scitools.org.uk/cartopy/docs/latest/crs/projections.html. "
   ]
  },
  {
   "cell_type": "code",
   "execution_count": null,
   "metadata": {},
   "outputs": [],
   "source": []
  }
 ],
 "metadata": {
  "kernelspec": {
   "display_name": "NERSC Python",
   "language": "python",
   "name": "python3"
  },
  "language_info": {
   "codemirror_mode": {
    "name": "ipython",
    "version": 3
   },
   "file_extension": ".py",
   "mimetype": "text/x-python",
   "name": "python",
   "nbconvert_exporter": "python",
   "pygments_lexer": "ipython3",
   "version": "3.11.7"
  }
 },
 "nbformat": 4,
 "nbformat_minor": 4
}
