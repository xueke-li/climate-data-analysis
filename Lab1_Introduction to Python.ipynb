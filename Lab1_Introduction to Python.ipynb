{
 "cells": [
  {
   "cell_type": "markdown",
   "metadata": {},
   "source": [
    "# Tutorial 1: Introduction to Python Language and Jupyter Notebooks"
   ]
  },
  {
   "cell_type": "markdown",
   "metadata": {},
   "source": [
    "Welcome to Python! This tutorial is aimed at getting you adjusted to using Jupyter notebooks and Python. By the end of this tutorial, you will be able to:\n",
    "* define basic Python language structure and data types\n",
    "* understand simple code examples\n",
    "* operate a notebook and write your own code\n"
   ]
  },
  {
   "cell_type": "markdown",
   "metadata": {},
   "source": [
    "## What is Jupyter Notebook?\n",
    "You are currently reading information in a Jupyter notebook. A notebook is like a document, but it is specific to Jupyter. It's like a Word docx or a Google Doc. The .docx file extension is specific to Word, the Google Doc is specific to Google Drive, the notebook is specific to Jupyter. You can open and read the files using other programs, but it works best in Jupyter, just like .docx work best with Word and Google Docs work best in Google Drive. \n",
    "\n",
    "A Jupyter notebook has a couple of different cell types to write in. This cell is a Markdown. The cell below is a code cell, the default cell type. You can change the cell type in Jupyter Notebook using the Toolbar. There are also Raw NBConverts, but you don't need to worry about those. To edit a cell, double click on it. When you are done editing, press Shift+Return on your keyboard. Try this with the code cell below:"
   ]
  },
  {
   "cell_type": "code",
   "execution_count": null,
   "metadata": {},
   "outputs": [],
   "source": [
    "x = 3 + 7\n",
    "print(x)"
   ]
  },
  {
   "cell_type": "markdown",
   "metadata": {},
   "source": [
    "Pretty easy, right? If you want to make a new cell, there are a few options. You can click the **+** button in the top left corner of this screen (under File). This makes a new code cell appear below the current working cell. If you want a cell to appear above, you can click out of the current cell in a grey margin (the highlight color will turn blue instead of green) and press A on your keyboard. To make a cell below, press B. You can also click \"Insert\" on the menu bar and choose either \"Insert Cell Above\" or \"Insert Cell Below\". "
   ]
  },
  {
   "cell_type": "markdown",
   "metadata": {},
   "source": [
    "You can copy and paste text and code just like you would in a Word document or Google Doc. You can also copy and paste entire cells, using the Edit dropdown menu or the shortcut buttons in the tool bar. Hover your mouse over the images to learn what they do. "
   ]
  },
  {
   "cell_type": "markdown",
   "metadata": {},
   "source": [
    "Let's try out these tools below!"
   ]
  },
  {
   "cell_type": "markdown",
   "metadata": {},
   "source": [
    "**Knowledge Check**\n",
    "Try out each task listed in the cells below. Some are in markdown and some are in code, but try to do all of them."
   ]
  },
  {
   "cell_type": "code",
   "execution_count": null,
   "metadata": {
    "scrolled": true
   },
   "outputs": [],
   "source": [
    "# Run me\n",
    "print('Mission Achieved!')"
   ]
  },
  {
   "cell_type": "raw",
   "metadata": {},
   "source": [
    "Convert me into a Markdown!"
   ]
  },
  {
   "cell_type": "markdown",
   "metadata": {},
   "source": [
    "Delete me!"
   ]
  },
  {
   "cell_type": "markdown",
   "metadata": {},
   "source": [
    "Insert cell below me!"
   ]
  },
  {
   "cell_type": "code",
   "execution_count": null,
   "metadata": {},
   "outputs": [],
   "source": [
    "# Insert Markdown cell above me! Then write in a description!\n",
    "y = 13"
   ]
  },
  {
   "cell_type": "markdown",
   "metadata": {},
   "source": [
    "Copy me and paste me somewhere else!"
   ]
  },
  {
   "cell_type": "markdown",
   "metadata": {},
   "source": [
    "Hopefully that quick activity helped you acclimate to Jupyter! There are a few other buttons of importance in the Menu: File -> Save Notebook, Kernel -> Restart, and File -> Close and Shut Down Notebook. \n",
    "1. Save Notebook is pretty straightforward. Click whenever you need to make sure your data is saved! \n",
    "2. Kernel -> Restart will clear the memory of everything you've run so far. This is most useful if you've been testing out new code and want to run the whole script through to make sure it works. \n",
    "3. File -> Close and Shut Down Notebook should be used to exit each notebook. **Make sure you click Close and Shut Down Notebook whenever you are done with a notebook.** Otherwise, the scripts will keep running in the background, which may take up a lot of memory on your computer!"
   ]
  },
  {
   "cell_type": "markdown",
   "metadata": {},
   "source": [
    "## What is Python?\n",
    "Python is a type of programming language. It is often described as having a \"simple, easy-to-learn syntax\". This basically means that writing in Python is logical for humans. We write Python code like how we would talk or form a logical argument. But before we can write in Python, there is some basic vocabulary to learn."
   ]
  },
  {
   "cell_type": "markdown",
   "metadata": {},
   "source": [
    "## Packages and Modules\n",
    "Python is a language, and inside every language there are different types of words. In English, we have parts of speech like nouns, verbs, adjectives, etc. In Python, we have *packages* like Numpy, Scipy, pandas, etc. Each package has a specific purpose, Numpy = matrix math, Scipy = Science-based analysis, pandas = spreadsheet operations (like Excel). Each part of speech has many different categories and words. For example, we have abstract nouns, proper nouns, collective nouns, common nouns, but they are all types of nouns. In a Python package like Numpy, we have different *commands* that tell us what is happening in our Python sentence. \n",
    "\n",
    "The code below is an example of a numpy sentence (ignore the import statement for now)."
   ]
  },
  {
   "cell_type": "code",
   "execution_count": null,
   "metadata": {},
   "outputs": [],
   "source": [
    "import numpy\n",
    "\n",
    "x = numpy.arange(5)\n",
    "print(x)"
   ]
  },
  {
   "cell_type": "markdown",
   "metadata": {},
   "source": [
    "Numpy is all about matrices, lists, and math operations on those matrices and lists. In this example, I said \"numpy.\" which means I was using Numpy. Then I specified my command as \"arange\". This command makes a list, or a range of numbers. I said \"(5)\", so Numpy makes a range of numbers that 5 digits long, starting at 0 (**Note that in Python, indexing for sequences starts at 0**). The print statement below shows us the result of this command. "
   ]
  },
  {
   "cell_type": "markdown",
   "metadata": {},
   "source": [
    "You can tell I made a list because the numbers are surrounded by straight brackets [ ]. Arrays, matrices, and lists use brackets to separate out the columns and rows. "
   ]
  },
  {
   "cell_type": "markdown",
   "metadata": {},
   "source": [
    "But why did I need the import statement? Python doesn't automatically open all packages when you start a notebook or script. Instead, you need to tell Python which packages you want. You do this with the import statement. You can also give each package a nickname, like \"pd\" in the example below. Here are some more examples of importing packages."
   ]
  },
  {
   "cell_type": "code",
   "execution_count": null,
   "metadata": {},
   "outputs": [],
   "source": [
    "import numpy as np\n",
    "import pandas as pd\n",
    "import scipy\n",
    "from matplotlib import pyplot as plt"
   ]
  },
  {
   "cell_type": "markdown",
   "metadata": {},
   "source": [
    "Wait, what happened with that last line?!\n",
    "\n",
    "Matplotlib is a plotting package. But I didn't import all of Matplotlib, I only imported one *module* from Matplotlib called pyplot. This would be like me writing a sentence using only proper nouns. I could use any type of noun, but I'm only using the proper noun module in my sentence. Another way to write this import statement is below:"
   ]
  },
  {
   "cell_type": "code",
   "execution_count": null,
   "metadata": {},
   "outputs": [],
   "source": [
    "import matplotlib.pyplot as plt"
   ]
  },
  {
   "cell_type": "markdown",
   "metadata": {},
   "source": [
    "Both examples do the same thing, so it totally depends on which you prefer!"
   ]
  },
  {
   "cell_type": "markdown",
   "metadata": {},
   "source": [
    "Sometimes you will see \"import * \" statement. This statement imports all the functions and classes from the selected package. This is actually a *bad* habit and you should not use this form of import statement. Instead, specify which modules you want explicitly or just import the entire package. But it is good to know what other people might do in their code."
   ]
  },
  {
   "cell_type": "code",
   "execution_count": null,
   "metadata": {},
   "outputs": [],
   "source": [
    "from matplotlib import * # bad code!"
   ]
  },
  {
   "cell_type": "markdown",
   "metadata": {},
   "source": [
    "## Data types"
   ]
  },
  {
   "cell_type": "markdown",
   "metadata": {},
   "source": [
    "Python has many different types of data. We've already talked about one, a list. And we've seen another, an integer. In the code below, I show several common data types that you will see in your research."
   ]
  },
  {
   "cell_type": "markdown",
   "metadata": {},
   "source": [
    "### Part 1: str, int, float"
   ]
  },
  {
   "cell_type": "code",
   "execution_count": null,
   "metadata": {},
   "outputs": [],
   "source": [
    "# strings: used to represent sequences of characters, essentially textual data. \n",
    "# strings are enclosed within either single quotes '' or double quotes \"\".\n",
    "str1 = 'apple'\n",
    "str2 = 'PM2.5'\n",
    "str3 = 'On Wednesdays, we wear pink'\n",
    "\n",
    "# integers: is a whole number, positive, negative, or zero, without any fractional or decimal component.\n",
    "int1 = 12\n",
    "int2 = 100043\n",
    "int3 = -17\n",
    "\n",
    "# floats (floating-point number): is a numerical data type used to represent real numbers, \n",
    "# floats include a fractional or decimal part. \n",
    "float1 = 0.0\n",
    "float2 = 19.807\n",
    "float3 = 2.4e-1"
   ]
  },
  {
   "cell_type": "markdown",
   "metadata": {},
   "source": [
    "If you want to see what these different data types look like in Python form, you can use a print statement. Try it out below by changing what is in the print statement. You can also see what kind of object you have by using the type() command. "
   ]
  },
  {
   "cell_type": "code",
   "execution_count": null,
   "metadata": {
    "scrolled": true
   },
   "outputs": [],
   "source": [
    "print(str1)\n",
    "print(type(str1))"
   ]
  },
  {
   "cell_type": "code",
   "execution_count": null,
   "metadata": {},
   "outputs": [],
   "source": [
    "print(int1)\n",
    "print(type(int1))"
   ]
  },
  {
   "cell_type": "markdown",
   "metadata": {},
   "source": [
    "What if we want to change data type? We can do this for some variables and not for others. For example, we can always turn an int or float into a str. But we can't always turn a str into an int or float. This is because not all str are numbers. Try it out below."
   ]
  },
  {
   "cell_type": "code",
   "execution_count": null,
   "metadata": {},
   "outputs": [],
   "source": [
    "print(int1)\n",
    "\n",
    "str4 = str(int1)\n",
    "print(str4)\n",
    "print(type(str4))"
   ]
  },
  {
   "cell_type": "markdown",
   "metadata": {},
   "source": [
    "Note here: although print(int1) and print(str4) show the same result of 12, the data type are different. You can use int1 for mathematic calculation, but you will not be able to use str4 for any calculations because str4 is a string type - basically, it is a word, not a number! See examples below:"
   ]
  },
  {
   "cell_type": "code",
   "execution_count": null,
   "metadata": {
    "scrolled": true
   },
   "outputs": [],
   "source": [
    "result = int1 + 1\n",
    "print(result)"
   ]
  },
  {
   "cell_type": "code",
   "execution_count": null,
   "metadata": {},
   "outputs": [],
   "source": [
    "result = str4 + 1\n",
    "print(result)"
   ]
  },
  {
   "cell_type": "markdown",
   "metadata": {},
   "source": [
    "This error message is saying the data type of str4 is not a number. Be careful when you have printed it as 12, it is actually word \"12\", not number 12."
   ]
  },
  {
   "cell_type": "code",
   "execution_count": null,
   "metadata": {},
   "outputs": [],
   "source": [
    "int4 = int(str1)"
   ]
  },
  {
   "cell_type": "markdown",
   "metadata": {},
   "source": [
    "This error message is saying we can't turn str1 into an int type because \"apple\" doesn't fit in any base 10 number. "
   ]
  },
  {
   "cell_type": "code",
   "execution_count": null,
   "metadata": {},
   "outputs": [],
   "source": [
    "float4 = float(int1)\n",
    "print(float4)"
   ]
  },
  {
   "cell_type": "markdown",
   "metadata": {},
   "source": [
    "What happened in that last cell? We turned an int, a whole number, into a float, a floating-point number. Basically, we added a decimal place. "
   ]
  },
  {
   "cell_type": "markdown",
   "metadata": {},
   "source": [
    "Ok, so str, int, and floats make sense. What about lists or dicts? Those are really useful for doing repeat calculations or making tables and spreadsheets. We can use Numpy, Scipy, or pandas for all these actions!"
   ]
  },
  {
   "cell_type": "markdown",
   "metadata": {},
   "source": [
    "### Part 2: list"
   ]
  },
  {
   "cell_type": "code",
   "execution_count": null,
   "metadata": {},
   "outputs": [],
   "source": [
    "# lists: can contain elements of different data types \n",
    "list1 = ['apples','bananas','oranges']\n",
    "list2 = np.arange(15) # we already imported numpy in this notebook, so we don't need to do it again!\n",
    "list3 = [16.0,12.0,23.7,18.2]\n",
    "list4 = ['apples', 2]"
   ]
  },
  {
   "cell_type": "markdown",
   "metadata": {},
   "source": [
    "Use the print statement below to see what a list looks like."
   ]
  },
  {
   "cell_type": "code",
   "execution_count": null,
   "metadata": {},
   "outputs": [],
   "source": [
    "print(list1)"
   ]
  },
  {
   "cell_type": "markdown",
   "metadata": {},
   "source": [
    "If you want to see how long your list is without printing it and counting each element, you can use the len() command."
   ]
  },
  {
   "cell_type": "code",
   "execution_count": null,
   "metadata": {},
   "outputs": [],
   "source": [
    "print(len(list2))"
   ]
  },
  {
   "cell_type": "markdown",
   "metadata": {},
   "source": [
    "Each thing in a list is called an element. Each element in a list has an index, or location in the list. To select certain elements from the list, you can use list_name[location] for one element and list_name[start:end] for a slice of elements:"
   ]
  },
  {
   "cell_type": "code",
   "execution_count": null,
   "metadata": {},
   "outputs": [],
   "source": [
    "# to get the first element of list1:\n",
    "list1[0]"
   ]
  },
  {
   "cell_type": "markdown",
   "metadata": {},
   "source": [
    "**Note:** In Python, the index of the first element is 0. If you have experience using Matlab, the first element is usually 1, so pay attemtion here. It is easy to mess up if you are used to the rule of another programming language."
   ]
  },
  {
   "cell_type": "code",
   "execution_count": null,
   "metadata": {},
   "outputs": [],
   "source": [
    "# to get the first three element of a list:\n",
    "# **.\n",
    "list3[0:3]"
   ]
  },
  {
   "cell_type": "markdown",
   "metadata": {},
   "source": [
    "**Note:** the element at the end index is not included in the resulting slice."
   ]
  },
  {
   "cell_type": "code",
   "execution_count": null,
   "metadata": {},
   "outputs": [],
   "source": [
    "# to get the last element of a list:\n",
    "list2[-1]"
   ]
  },
  {
   "cell_type": "markdown",
   "metadata": {},
   "source": [
    "### Part 3: dict\n",
    "We can add lists together with labels (called keys) to make a dict. In a dictionary, the key is the column header and the data are values. They go together in a {key:value} pair. You can think of this like a table where the key is the column label and the values are the entries in that column. Values can be anything, any type of data, and they don't have to be the same in a {key:value} pair. \n",
    "\n",
    "You can tell something is a dict and not a list because curly brackets are used { }. There is also always a colon : between the key and the values. "
   ]
  },
  {
   "cell_type": "code",
   "execution_count": null,
   "metadata": {},
   "outputs": [],
   "source": [
    "# dictionaries\n",
    "dict1 = {'column1':[1,2,4,8,16,32]}\n",
    "dict2 = {'Numbers':[1,2,3,4],'Fruit':['apples','bananas','oranges','lemons'],'Randoms':list3}\n",
    "print(dict1)"
   ]
  },
  {
   "cell_type": "markdown",
   "metadata": {},
   "source": [
    "Ok, let's break down the printed dict a little more. The curly brackets { } tell us everything we printed is a dict. Inside that dict, we have a str that is the key. Then we have a colon : that tells us the values for the key are coming up. Next, we have straight brackets [ ] surrounding the values. The straight brackets indicate a list, and the values are elements in that list. "
   ]
  },
  {
   "cell_type": "markdown",
   "metadata": {},
   "source": [
    "If you want to know what your keys or values are without printing the whole dict, you can call these items."
   ]
  },
  {
   "cell_type": "code",
   "execution_count": null,
   "metadata": {},
   "outputs": [],
   "source": [
    "# The keys in dict1:\n",
    "print(dict1.keys())\n",
    "\n",
    "# The corresponding values:\n",
    "print(dict1.values())"
   ]
  },
  {
   "cell_type": "markdown",
   "metadata": {},
   "source": [
    "Easy, right? Now, what if you want to know the values of a certain key? Try this statement: dict_name['key_name']:"
   ]
  },
  {
   "cell_type": "code",
   "execution_count": null,
   "metadata": {},
   "outputs": [],
   "source": [
    "print(dict1['column1'])"
   ]
  },
  {
   "cell_type": "markdown",
   "metadata": {},
   "source": [
    "Since the values in our dict are elements of a list, we can call a specific element using its index. But first we must indicate which column of data we want by using the key. "
   ]
  },
  {
   "cell_type": "code",
   "execution_count": null,
   "metadata": {},
   "outputs": [],
   "source": [
    "print(dict1['column1'][1])\n",
    "# this code is saying find the 2nd element in column1 of dict1, remember indexing starts at 0"
   ]
  },
  {
   "cell_type": "markdown",
   "metadata": {},
   "source": [
    "Now that we understand all the {key:value} pairs, we can use pandas (a Python package) to do fancy stuff to our dict."
   ]
  },
  {
   "cell_type": "markdown",
   "metadata": {},
   "source": [
    "### Part 4: DataFrames\n",
    "\n",
    "\n",
    "Let's make a table using pandas! (User Guide of pandas can be found here: https://pandas.pydata.org/docs/user_guide/index.html)"
   ]
  },
  {
   "cell_type": "code",
   "execution_count": null,
   "metadata": {},
   "outputs": [],
   "source": [
    "df1 = pd.DataFrame(data=dict1) # we already imported pandas, so we don't need to do it again\n",
    "print(df1)"
   ]
  },
  {
   "cell_type": "markdown",
   "metadata": {},
   "source": [
    "df1 is our first table! In pandas, these are called DataFrames. We can make any DataFrame using the pd.DataFrame command and inputing a dictionary for the data argument. The list of numbers on the left side are the indexes. The default, if you don't specify the index when you make the DataFrame, is to number the rows starting at 0. We can change the column names or the indexes using pandas commands. "
   ]
  },
  {
   "cell_type": "code",
   "execution_count": null,
   "metadata": {},
   "outputs": [],
   "source": [
    "df1 = pd.DataFrame(data=dict2)\n",
    "print(df1)"
   ]
  },
  {
   "cell_type": "code",
   "execution_count": null,
   "metadata": {},
   "outputs": [],
   "source": [
    "df2 = df1.set_index('Numbers')\n",
    "print(df2)"
   ]
  },
  {
   "cell_type": "markdown",
   "metadata": {},
   "source": [
    "Check in!! Yes, in the example above, the first column of df1, named \"Numbers\", became the index of df2. But let's break this down a bit. \n",
    "\n",
    "First, we made a new DataFrame called df2. We said df2 is equal to df1 BUT changing the indexes for the values in  column 1. This also means that the index label is the key from column 1 in df1. By making column 1 our index, we removed this column from the table. Now there are only two {key:value} data pairs in the DataFrame. "
   ]
  },
  {
   "cell_type": "markdown",
   "metadata": {},
   "source": [
    "When we say there are only two {key:value} pairs in the DataFrame, we mean that Numbers is no longer a key! It has become the index label. We can still call the Fruit and Randoms keys, but we cannot treat Numbers the same way."
   ]
  },
  {
   "cell_type": "code",
   "execution_count": null,
   "metadata": {},
   "outputs": [],
   "source": [
    "print(df2['Fruit'])"
   ]
  },
  {
   "cell_type": "code",
   "execution_count": null,
   "metadata": {},
   "outputs": [],
   "source": [
    "print(df2['Numbers'])"
   ]
  },
  {
   "cell_type": "markdown",
   "metadata": {},
   "source": [
    "This long error message ends with \"<font color=red>KeyError</font>: 'Numbers'\". This is saying 'Numbers' is not a key, so you can't use it to select those values. Instead, we must call the DataFrame indexes."
   ]
  },
  {
   "cell_type": "code",
   "execution_count": null,
   "metadata": {},
   "outputs": [],
   "source": [
    "print(df2.index)"
   ]
  },
  {
   "cell_type": "markdown",
   "metadata": {},
   "source": [
    "Now let's change the column labels!"
   ]
  },
  {
   "cell_type": "code",
   "execution_count": null,
   "metadata": {},
   "outputs": [],
   "source": [
    "df3 = df1.rename(columns={'Numbers':'Friday','Fruit':'Monday','Randoms':'Thursday'})\n",
    "print(df3)"
   ]
  },
  {
   "cell_type": "markdown",
   "metadata": {},
   "source": [
    "In the example above, we renamed all our columns using the rename command. We started with df1, which had 3 columns. Columns 1, 2, and 3 of df1 now have new names: Friday, Monday, Thursday. "
   ]
  },
  {
   "cell_type": "markdown",
   "metadata": {},
   "source": [
    "We'll explore pandas in more detail in a later module. Hopefully, though, you've seen why lists and dicts are important data types!"
   ]
  },
  {
   "cell_type": "markdown",
   "metadata": {},
   "source": [
    "### Bonus: Operators"
   ]
  },
  {
   "cell_type": "code",
   "execution_count": null,
   "metadata": {},
   "outputs": [],
   "source": [
    "# Example reference: https://www.w3schools.com/python/python_operators.asp\n",
    "\n",
    "######### Assignment Operators #########\n",
    "# assign value to a variable using \"=\"\n",
    "x = 3\n",
    "\n",
    "## Try uncommenting each line one at a time, and print the result to see what it does ##\n",
    "# x += 2  # x = x + 2\n",
    "# x -= 2  # x = x - 2\n",
    "# x *= 2  # x = x * 2\n",
    "# x /= 2  # x = x / 2\n",
    "print(x)"
   ]
  },
  {
   "cell_type": "code",
   "execution_count": null,
   "metadata": {},
   "outputs": [],
   "source": [
    "######### Arithmetic Operators #########\n",
    "x = 3\n",
    "y = 2\n",
    "\n",
    "## Try uncommenting each line one at a time, and print the result to see what it does ##\n",
    "# addition\n",
    "# z = x + y\n",
    "\n",
    "# subtraction\n",
    "# z = x - y \n",
    "\n",
    "# multiplication\n",
    "# z = x * y\n",
    "\n",
    "# division\n",
    "# z = x / y\n",
    "\n",
    "# modulus: the remainder after dividing one number by another\n",
    "# z = x % y \n",
    "\n",
    "# exponentiation: multiplying the base n times (n: the exponent or power)\n",
    "# z = x ** y\n",
    "\n",
    "# floor division: divides two numbers and rounds the result down to the nearest whole number (or integer)\n",
    "# z = x // y\n",
    "\n",
    "print(z)"
   ]
  },
  {
   "cell_type": "code",
   "execution_count": null,
   "metadata": {},
   "outputs": [],
   "source": [
    "######### Comparison Operators (Return to boolean) ######### \n",
    "x = 3\n",
    "y = 2\n",
    "\n",
    "## Try uncommenting each line one at a time, and print the result to see what it does ## \n",
    "# equal\n",
    "# x == y \n",
    "\n",
    "# not equal\n",
    "# x != y   \n",
    "\n",
    "# greater than\n",
    "# x > y\n",
    "\n",
    "# less than\n",
    "# x < y\n",
    "\n",
    "# greater than or equal to\n",
    "# x >= y\n",
    "\n",
    "# less than or equal to\n",
    "# x <= y"
   ]
  },
  {
   "cell_type": "code",
   "execution_count": null,
   "metadata": {},
   "outputs": [],
   "source": [
    "######### Logical Operators ######### \n",
    "x = 3\n",
    "y = 2\n",
    "l = [1, 2, 3]\n",
    "\n",
    "## Try uncommenting each line one at a time, and print the result to see what it does ## \n",
    "# returns True if both statements are true\n",
    "# x < 5 and x < 2\n",
    "\n",
    "# returns True if one of the statements is true\n",
    "# x < 5 or x < 2\n",
    "\n",
    "# reverse the result, returns False if the result is true\n",
    "# not(x < 5 and x < 2)\n",
    "\n",
    "######### Identity Operators ######### \n",
    "# returns True if both variables are the same object\n",
    "# x is y\n",
    "\n",
    "# returns True if both variables are not the same object\n",
    "# x is not y\n",
    "\n",
    "######### Membership Operators ######### \n",
    "# returns True if a sequence with the specified value is present in the object\n",
    "# x in l\n",
    "\n",
    "# returns True if a sequence with the specified value is not present in the object\n",
    "# x not in l"
   ]
  },
  {
   "cell_type": "markdown",
   "metadata": {},
   "source": [
    "### Bonus: array\n",
    "Elements must be of the same data type;\n",
    "Arrays are particularly optimized for numerical operations and are more memory-efficient when storing large collections of data of the same type."
   ]
  },
  {
   "cell_type": "code",
   "execution_count": null,
   "metadata": {},
   "outputs": [],
   "source": [
    "import array as arr\n",
    "a = arr.array('i', [1, 2, 3]) # 'i' define typecodes of a, which is signed int\n",
    "print('a: ', a)               # Type code: https://docs.python.org/3/library/array.html\n",
    "\n",
    "# access the elements of an array\n",
    "## Try uncommenting each line one at a time, and print the result to see what it does ## \n",
    "# print(a[0]) # !!! index starts from 0\n",
    "# print(a[-1]) # the last one of the variable\n",
    "# print(a[1:3]) # second to third element of the variable\n",
    "# print(a[:2])  # first to second position\n",
    "# print(a[1:])  # second to last"
   ]
  },
  {
   "cell_type": "markdown",
   "metadata": {},
   "source": [
    "**Note:** When you access a specific index, like a[0], Python retrieves just that integer value. When you use slicing, like a[1:3], it returns a new array object containing the sliced elements, maintaining its type code and array structure."
   ]
  },
  {
   "cell_type": "code",
   "execution_count": null,
   "metadata": {},
   "outputs": [],
   "source": [
    "# search for the index (location) of the specific value \n",
    "print(a.index(3))"
   ]
  },
  {
   "cell_type": "code",
   "execution_count": null,
   "metadata": {},
   "outputs": [],
   "source": [
    "# length of an array\n",
    "print(len(a))"
   ]
  },
  {
   "cell_type": "code",
   "execution_count": null,
   "metadata": {},
   "outputs": [],
   "source": [
    "# looping array elements\n",
    "for i in range(0, len(a)):\n",
    "    print(a[i])"
   ]
  },
  {
   "cell_type": "code",
   "execution_count": null,
   "metadata": {},
   "outputs": [],
   "source": [
    "# change the value of an item in an array\n",
    "a[0] = 5\n",
    "a"
   ]
  },
  {
   "cell_type": "code",
   "execution_count": null,
   "metadata": {},
   "outputs": [],
   "source": [
    "# add a new value to an array\n",
    "a.append(8)\n",
    "#a.append(8.0)  #Try uncommenting this line and commenting out the one above it to see what you get\n",
    "a"
   ]
  },
  {
   "cell_type": "code",
   "execution_count": null,
   "metadata": {},
   "outputs": [],
   "source": [
    "# Remove a value from an array\n",
    "a.remove(2)\n",
    "a"
   ]
  },
  {
   "cell_type": "markdown",
   "metadata": {},
   "source": [
    "### Exercises\n",
    "Ok, now that you've been introduced to the basics of Python, you should put your skills to the test! Below are a few code cells with some different types of data. First, read through the cells and try to understand what they are doing. The # signs are comment lines (code that doesn't run) and they should help clarify any issues. Second, try to edit the code to make your own data. You can start with one simple change and then progress to larger changes if you feel comfortable!"
   ]
  },
  {
   "cell_type": "code",
   "execution_count": null,
   "metadata": {},
   "outputs": [],
   "source": [
    "# import the packages we want\n",
    "import numpy as np\n",
    "import pandas as pd"
   ]
  },
  {
   "cell_type": "code",
   "execution_count": null,
   "metadata": {},
   "outputs": [],
   "source": [
    "# define our variables\n",
    "x = np.arange(15)\n",
    "y = x * 17 + (x - 12)\n",
    "z = np.sin(x)"
   ]
  },
  {
   "cell_type": "code",
   "execution_count": null,
   "metadata": {},
   "outputs": [],
   "source": [
    "# print the data \n",
    "print(x)\n",
    "print(y)\n",
    "print(z)"
   ]
  },
  {
   "cell_type": "code",
   "execution_count": null,
   "metadata": {},
   "outputs": [],
   "source": [
    "# use the data to make a DataFrame\n",
    "df = pd.DataFrame(data={'y':y,'z':z}, index=x)\n",
    "df"
   ]
  },
  {
   "cell_type": "markdown",
   "metadata": {},
   "source": [
    "**Knowledge Check** What are the data types of x, y, and z? How do you know?"
   ]
  },
  {
   "cell_type": "code",
   "execution_count": null,
   "metadata": {},
   "outputs": [],
   "source": [
    "# make a new list\n",
    "# the \\ in line 3 means I can continue the list on the next line\n",
    "cities = ['Boston','New York City','Newark','Baltimore','D.C.','Atlanta','Chicago','Kansas City',\\\n",
    "          'St. Louis','Minneapolis','Salt Lake City','Las Vegas','Houston','Dallas','Los Angeles']\n",
    "print(len(cities))"
   ]
  },
  {
   "cell_type": "code",
   "execution_count": null,
   "metadata": {},
   "outputs": [],
   "source": [
    "# add this new list to the DataFrame\n",
    "df['cities'] = cities"
   ]
  },
  {
   "cell_type": "code",
   "execution_count": null,
   "metadata": {},
   "outputs": [],
   "source": [
    "# let's change the index\n",
    "df2 = df.set_index('cities')\n",
    "df2"
   ]
  },
  {
   "cell_type": "code",
   "execution_count": null,
   "metadata": {},
   "outputs": [],
   "source": [
    "# maybe try some math out\n",
    "# can you figure out what the ** means?\n",
    "a = y - z**2\n",
    "print(a)"
   ]
  },
  {
   "cell_type": "markdown",
   "metadata": {},
   "source": [
    "**Answer:** The ** means take the exponent, or ${z^2}$."
   ]
  },
  {
   "cell_type": "code",
   "execution_count": null,
   "metadata": {},
   "outputs": [],
   "source": [
    "# let's change the data type\n",
    "b = y.astype(float)\n",
    "print(b)\n",
    "c = z.astype(str)\n",
    "print(c)"
   ]
  },
  {
   "cell_type": "code",
   "execution_count": null,
   "metadata": {},
   "outputs": [],
   "source": [
    "d = b - c**2"
   ]
  },
  {
   "cell_type": "markdown",
   "metadata": {},
   "source": [
    "**Knowledge Check** Why did you get an error message on the previous cell? How could you fix this problem?"
   ]
  }
 ],
 "metadata": {
  "kernelspec": {
   "display_name": "NERSC Python",
   "language": "python",
   "name": "python3"
  },
  "language_info": {
   "codemirror_mode": {
    "name": "ipython",
    "version": 3
   },
   "file_extension": ".py",
   "mimetype": "text/x-python",
   "name": "python",
   "nbconvert_exporter": "python",
   "pygments_lexer": "ipython3",
   "version": "3.11.7"
  }
 },
 "nbformat": 4,
 "nbformat_minor": 4
}
